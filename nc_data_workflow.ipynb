{
 "cells": [
  {
   "cell_type": "code",
   "execution_count": 1,
   "id": "9d3bb268",
   "metadata": {},
   "outputs": [
    {
     "name": "stdout",
     "output_type": "stream",
     "text": [
      "Requirement already satisfied: jupyterthemes in c:\\users\\administrator\\anaconda3\\lib\\site-packages (0.20.0)\n",
      "Requirement already satisfied: jupyter-core in c:\\users\\administrator\\anaconda3\\lib\\site-packages (from jupyterthemes) (5.3.0)\n",
      "Requirement already satisfied: notebook>=5.6.0 in c:\\users\\administrator\\anaconda3\\lib\\site-packages (from jupyterthemes) (6.5.4)\n",
      "Requirement already satisfied: ipython>=5.4.1 in c:\\users\\administrator\\anaconda3\\lib\\site-packages (from jupyterthemes) (8.15.0)\n",
      "Requirement already satisfied: matplotlib>=1.4.3 in c:\\users\\administrator\\anaconda3\\lib\\site-packages (from jupyterthemes) (3.7.2)\n",
      "Requirement already satisfied: lesscpy>=0.11.2 in c:\\users\\administrator\\anaconda3\\lib\\site-packages (from jupyterthemes) (0.15.1)\n",
      "Requirement already satisfied: backcall in c:\\users\\administrator\\anaconda3\\lib\\site-packages (from ipython>=5.4.1->jupyterthemes) (0.2.0)\n",
      "Requirement already satisfied: decorator in c:\\users\\administrator\\anaconda3\\lib\\site-packages (from ipython>=5.4.1->jupyterthemes) (5.1.1)\n",
      "Requirement already satisfied: jedi>=0.16 in c:\\users\\administrator\\anaconda3\\lib\\site-packages (from ipython>=5.4.1->jupyterthemes) (0.18.1)\n",
      "Requirement already satisfied: matplotlib-inline in c:\\users\\administrator\\anaconda3\\lib\\site-packages (from ipython>=5.4.1->jupyterthemes) (0.1.6)\n",
      "Requirement already satisfied: pickleshare in c:\\users\\administrator\\anaconda3\\lib\\site-packages (from ipython>=5.4.1->jupyterthemes) (0.7.5)\n",
      "Requirement already satisfied: prompt-toolkit!=3.0.37,<3.1.0,>=3.0.30 in c:\\users\\administrator\\anaconda3\\lib\\site-packages (from ipython>=5.4.1->jupyterthemes) (3.0.36)\n",
      "Requirement already satisfied: pygments>=2.4.0 in c:\\users\\administrator\\anaconda3\\lib\\site-packages (from ipython>=5.4.1->jupyterthemes) (2.15.1)\n",
      "Requirement already satisfied: stack-data in c:\\users\\administrator\\anaconda3\\lib\\site-packages (from ipython>=5.4.1->jupyterthemes) (0.2.0)\n",
      "Requirement already satisfied: traitlets>=5 in c:\\users\\administrator\\anaconda3\\lib\\site-packages (from ipython>=5.4.1->jupyterthemes) (5.7.1)\n",
      "Requirement already satisfied: colorama in c:\\users\\administrator\\anaconda3\\lib\\site-packages (from ipython>=5.4.1->jupyterthemes) (0.4.6)\n",
      "Requirement already satisfied: ply in c:\\users\\administrator\\anaconda3\\lib\\site-packages (from lesscpy>=0.11.2->jupyterthemes) (3.11)\n",
      "Requirement already satisfied: contourpy>=1.0.1 in c:\\users\\administrator\\anaconda3\\lib\\site-packages (from matplotlib>=1.4.3->jupyterthemes) (1.0.5)\n",
      "Requirement already satisfied: cycler>=0.10 in c:\\users\\administrator\\anaconda3\\lib\\site-packages (from matplotlib>=1.4.3->jupyterthemes) (0.11.0)\n",
      "Requirement already satisfied: fonttools>=4.22.0 in c:\\users\\administrator\\anaconda3\\lib\\site-packages (from matplotlib>=1.4.3->jupyterthemes) (4.25.0)\n",
      "Requirement already satisfied: kiwisolver>=1.0.1 in c:\\users\\administrator\\anaconda3\\lib\\site-packages (from matplotlib>=1.4.3->jupyterthemes) (1.4.4)\n",
      "Requirement already satisfied: numpy>=1.20 in c:\\users\\administrator\\appdata\\roaming\\python\\python311\\site-packages (from matplotlib>=1.4.3->jupyterthemes) (1.24.3)\n",
      "Requirement already satisfied: packaging>=20.0 in c:\\users\\administrator\\anaconda3\\lib\\site-packages (from matplotlib>=1.4.3->jupyterthemes) (23.1)\n",
      "Requirement already satisfied: pillow>=6.2.0 in c:\\users\\administrator\\anaconda3\\lib\\site-packages (from matplotlib>=1.4.3->jupyterthemes) (9.4.0)\n",
      "Requirement already satisfied: pyparsing<3.1,>=2.3.1 in c:\\users\\administrator\\anaconda3\\lib\\site-packages (from matplotlib>=1.4.3->jupyterthemes) (3.0.9)\n",
      "Requirement already satisfied: python-dateutil>=2.7 in c:\\users\\administrator\\anaconda3\\lib\\site-packages (from matplotlib>=1.4.3->jupyterthemes) (2.8.2)\n",
      "Requirement already satisfied: jinja2 in c:\\users\\administrator\\anaconda3\\lib\\site-packages (from notebook>=5.6.0->jupyterthemes) (3.1.2)\n",
      "Requirement already satisfied: tornado>=6.1 in c:\\users\\administrator\\anaconda3\\lib\\site-packages (from notebook>=5.6.0->jupyterthemes) (6.3.2)\n",
      "Requirement already satisfied: pyzmq>=17 in c:\\users\\administrator\\anaconda3\\lib\\site-packages (from notebook>=5.6.0->jupyterthemes) (23.2.0)\n",
      "Requirement already satisfied: argon2-cffi in c:\\users\\administrator\\anaconda3\\lib\\site-packages (from notebook>=5.6.0->jupyterthemes) (21.3.0)\n",
      "Requirement already satisfied: jupyter-client>=5.3.4 in c:\\users\\administrator\\anaconda3\\lib\\site-packages (from notebook>=5.6.0->jupyterthemes) (7.4.9)\n",
      "Requirement already satisfied: ipython-genutils in c:\\users\\administrator\\anaconda3\\lib\\site-packages (from notebook>=5.6.0->jupyterthemes) (0.2.0)\n",
      "Requirement already satisfied: nbformat in c:\\users\\administrator\\anaconda3\\lib\\site-packages (from notebook>=5.6.0->jupyterthemes) (5.9.2)\n",
      "Requirement already satisfied: nbconvert>=5 in c:\\users\\administrator\\anaconda3\\lib\\site-packages (from notebook>=5.6.0->jupyterthemes) (6.5.4)\n",
      "Requirement already satisfied: nest-asyncio>=1.5 in c:\\users\\administrator\\anaconda3\\lib\\site-packages (from notebook>=5.6.0->jupyterthemes) (1.5.6)\n",
      "Requirement already satisfied: ipykernel in c:\\users\\administrator\\anaconda3\\lib\\site-packages (from notebook>=5.6.0->jupyterthemes) (6.25.0)\n",
      "Requirement already satisfied: Send2Trash>=1.8.0 in c:\\users\\administrator\\anaconda3\\lib\\site-packages (from notebook>=5.6.0->jupyterthemes) (1.8.0)\n",
      "Requirement already satisfied: terminado>=0.8.3 in c:\\users\\administrator\\anaconda3\\lib\\site-packages (from notebook>=5.6.0->jupyterthemes) (0.17.1)\n",
      "Requirement already satisfied: prometheus-client in c:\\users\\administrator\\anaconda3\\lib\\site-packages (from notebook>=5.6.0->jupyterthemes) (0.14.1)\n",
      "Requirement already satisfied: nbclassic>=0.4.7 in c:\\users\\administrator\\anaconda3\\lib\\site-packages (from notebook>=5.6.0->jupyterthemes) (0.5.5)\n",
      "Requirement already satisfied: platformdirs>=2.5 in c:\\users\\administrator\\anaconda3\\lib\\site-packages (from jupyter-core->jupyterthemes) (3.10.0)\n",
      "Requirement already satisfied: pywin32>=300 in c:\\users\\administrator\\anaconda3\\lib\\site-packages (from jupyter-core->jupyterthemes) (305.1)\n",
      "Requirement already satisfied: parso<0.9.0,>=0.8.0 in c:\\users\\administrator\\anaconda3\\lib\\site-packages (from jedi>=0.16->ipython>=5.4.1->jupyterthemes) (0.8.3)\n",
      "Requirement already satisfied: entrypoints in c:\\users\\administrator\\anaconda3\\lib\\site-packages (from jupyter-client>=5.3.4->notebook>=5.6.0->jupyterthemes) (0.4)\n",
      "Requirement already satisfied: jupyter-server>=1.8 in c:\\users\\administrator\\anaconda3\\lib\\site-packages (from nbclassic>=0.4.7->notebook>=5.6.0->jupyterthemes) (1.23.4)\n",
      "Requirement already satisfied: notebook-shim>=0.1.0 in c:\\users\\administrator\\anaconda3\\lib\\site-packages (from nbclassic>=0.4.7->notebook>=5.6.0->jupyterthemes) (0.2.2)\n",
      "Requirement already satisfied: lxml in c:\\users\\administrator\\anaconda3\\lib\\site-packages (from nbconvert>=5->notebook>=5.6.0->jupyterthemes) (4.9.3)\n",
      "Requirement already satisfied: beautifulsoup4 in c:\\users\\administrator\\anaconda3\\lib\\site-packages (from nbconvert>=5->notebook>=5.6.0->jupyterthemes) (4.12.2)\n",
      "Requirement already satisfied: bleach in c:\\users\\administrator\\anaconda3\\lib\\site-packages (from nbconvert>=5->notebook>=5.6.0->jupyterthemes) (4.1.0)\n",
      "Requirement already satisfied: defusedxml in c:\\users\\administrator\\anaconda3\\lib\\site-packages (from nbconvert>=5->notebook>=5.6.0->jupyterthemes) (0.7.1)\n",
      "Requirement already satisfied: jupyterlab-pygments in c:\\users\\administrator\\anaconda3\\lib\\site-packages (from nbconvert>=5->notebook>=5.6.0->jupyterthemes) (0.1.2)\n",
      "Requirement already satisfied: MarkupSafe>=2.0 in c:\\users\\administrator\\anaconda3\\lib\\site-packages (from nbconvert>=5->notebook>=5.6.0->jupyterthemes) (2.1.1)\n",
      "Requirement already satisfied: mistune<2,>=0.8.1 in c:\\users\\administrator\\anaconda3\\lib\\site-packages (from nbconvert>=5->notebook>=5.6.0->jupyterthemes) (0.8.4)\n",
      "Requirement already satisfied: nbclient>=0.5.0 in c:\\users\\administrator\\anaconda3\\lib\\site-packages (from nbconvert>=5->notebook>=5.6.0->jupyterthemes) (0.5.13)\n",
      "Requirement already satisfied: pandocfilters>=1.4.1 in c:\\users\\administrator\\anaconda3\\lib\\site-packages (from nbconvert>=5->notebook>=5.6.0->jupyterthemes) (1.5.0)\n",
      "Requirement already satisfied: tinycss2 in c:\\users\\administrator\\anaconda3\\lib\\site-packages (from nbconvert>=5->notebook>=5.6.0->jupyterthemes) (1.2.1)\n",
      "Requirement already satisfied: fastjsonschema in c:\\users\\administrator\\anaconda3\\lib\\site-packages (from nbformat->notebook>=5.6.0->jupyterthemes) (2.16.2)\n",
      "Requirement already satisfied: jsonschema>=2.6 in c:\\users\\administrator\\anaconda3\\lib\\site-packages (from nbformat->notebook>=5.6.0->jupyterthemes) (4.17.3)\n",
      "Requirement already satisfied: wcwidth in c:\\users\\administrator\\anaconda3\\lib\\site-packages (from prompt-toolkit!=3.0.37,<3.1.0,>=3.0.30->ipython>=5.4.1->jupyterthemes) (0.2.5)\n",
      "Requirement already satisfied: six>=1.5 in c:\\users\\administrator\\anaconda3\\lib\\site-packages (from python-dateutil>=2.7->matplotlib>=1.4.3->jupyterthemes) (1.16.0)\n",
      "Requirement already satisfied: pywinpty>=1.1.0 in c:\\users\\administrator\\anaconda3\\lib\\site-packages (from terminado>=0.8.3->notebook>=5.6.0->jupyterthemes) (2.0.10)\n",
      "Requirement already satisfied: argon2-cffi-bindings in c:\\users\\administrator\\anaconda3\\lib\\site-packages (from argon2-cffi->notebook>=5.6.0->jupyterthemes) (21.2.0)\n",
      "Requirement already satisfied: comm>=0.1.1 in c:\\users\\administrator\\anaconda3\\lib\\site-packages (from ipykernel->notebook>=5.6.0->jupyterthemes) (0.1.2)\n",
      "Requirement already satisfied: debugpy>=1.6.5 in c:\\users\\administrator\\anaconda3\\lib\\site-packages (from ipykernel->notebook>=5.6.0->jupyterthemes) (1.6.7)\n",
      "Requirement already satisfied: psutil in c:\\users\\administrator\\anaconda3\\lib\\site-packages (from ipykernel->notebook>=5.6.0->jupyterthemes) (5.9.0)\n",
      "Requirement already satisfied: executing in c:\\users\\administrator\\anaconda3\\lib\\site-packages (from stack-data->ipython>=5.4.1->jupyterthemes) (0.8.3)\n",
      "Requirement already satisfied: asttokens in c:\\users\\administrator\\anaconda3\\lib\\site-packages (from stack-data->ipython>=5.4.1->jupyterthemes) (2.0.5)\n",
      "Requirement already satisfied: pure-eval in c:\\users\\administrator\\anaconda3\\lib\\site-packages (from stack-data->ipython>=5.4.1->jupyterthemes) (0.2.2)\n",
      "Requirement already satisfied: attrs>=17.4.0 in c:\\users\\administrator\\anaconda3\\lib\\site-packages (from jsonschema>=2.6->nbformat->notebook>=5.6.0->jupyterthemes) (22.1.0)\n",
      "Requirement already satisfied: pyrsistent!=0.17.0,!=0.17.1,!=0.17.2,>=0.14.0 in c:\\users\\administrator\\anaconda3\\lib\\site-packages (from jsonschema>=2.6->nbformat->notebook>=5.6.0->jupyterthemes) (0.18.0)\n",
      "Requirement already satisfied: anyio<4,>=3.1.0 in c:\\users\\administrator\\anaconda3\\lib\\site-packages (from jupyter-server>=1.8->nbclassic>=0.4.7->notebook>=5.6.0->jupyterthemes) (3.5.0)\n",
      "Requirement already satisfied: websocket-client in c:\\users\\administrator\\anaconda3\\lib\\site-packages (from jupyter-server>=1.8->nbclassic>=0.4.7->notebook>=5.6.0->jupyterthemes) (0.58.0)\n",
      "Requirement already satisfied: cffi>=1.0.1 in c:\\users\\administrator\\anaconda3\\lib\\site-packages (from argon2-cffi-bindings->argon2-cffi->notebook>=5.6.0->jupyterthemes) (1.15.1)\n",
      "Requirement already satisfied: soupsieve>1.2 in c:\\users\\administrator\\anaconda3\\lib\\site-packages (from beautifulsoup4->nbconvert>=5->notebook>=5.6.0->jupyterthemes) (2.4)\n",
      "Requirement already satisfied: webencodings in c:\\users\\administrator\\anaconda3\\lib\\site-packages (from bleach->nbconvert>=5->notebook>=5.6.0->jupyterthemes) (0.5.1)\n",
      "Requirement already satisfied: idna>=2.8 in c:\\users\\administrator\\anaconda3\\lib\\site-packages (from anyio<4,>=3.1.0->jupyter-server>=1.8->nbclassic>=0.4.7->notebook>=5.6.0->jupyterthemes) (3.4)\n",
      "Requirement already satisfied: sniffio>=1.1 in c:\\users\\administrator\\anaconda3\\lib\\site-packages (from anyio<4,>=3.1.0->jupyter-server>=1.8->nbclassic>=0.4.7->notebook>=5.6.0->jupyterthemes) (1.2.0)\n",
      "Requirement already satisfied: pycparser in c:\\users\\administrator\\anaconda3\\lib\\site-packages (from cffi>=1.0.1->argon2-cffi-bindings->argon2-cffi->notebook>=5.6.0->jupyterthemes) (2.21)\n",
      "Note: you may need to restart the kernel to use updated packages.\n"
     ]
    }
   ],
   "source": [
    "pip install jupyterthemes"
   ]
  },
  {
   "cell_type": "code",
   "execution_count": 2,
   "id": "ca8e9146",
   "metadata": {},
   "outputs": [
    {
     "name": "stdout",
     "output_type": "stream",
     "text": [
      "Requirement already satisfied: netCDF4 in c:\\users\\administrator\\anaconda3\\lib\\site-packages (1.7.2)\n",
      "Requirement already satisfied: cftime in c:\\users\\administrator\\anaconda3\\lib\\site-packages (from netCDF4) (1.6.4.post1)\n",
      "Requirement already satisfied: certifi in c:\\users\\administrator\\anaconda3\\lib\\site-packages (from netCDF4) (2023.7.22)\n",
      "Requirement already satisfied: numpy in c:\\users\\administrator\\appdata\\roaming\\python\\python311\\site-packages (from netCDF4) (1.24.3)\n",
      "Note: you may need to restart the kernel to use updated packages.\n"
     ]
    }
   ],
   "source": [
    "pip install netCDF4"
   ]
  },
  {
   "cell_type": "code",
   "execution_count": 3,
   "id": "e0e174ad",
   "metadata": {},
   "outputs": [],
   "source": [
    "from netCDF4 import Dataset"
   ]
  },
  {
   "cell_type": "code",
   "execution_count": 4,
   "id": "f8d2c4c1",
   "metadata": {},
   "outputs": [],
   "source": [
    "import numpy as np"
   ]
  },
  {
   "cell_type": "code",
   "execution_count": 5,
   "id": "d91906c3",
   "metadata": {},
   "outputs": [],
   "source": [
    "data = Dataset(r'C:\\Users\\Administrator\\Downloads\\Handling netCDF files with Python [Part 3]\\Handling netCDF files with Python [Part 3]\\Temparature Data\\1961.nc','r')"
   ]
  },
  {
   "cell_type": "code",
   "execution_count": 6,
   "id": "3fae9924",
   "metadata": {},
   "outputs": [
    {
     "name": "stdout",
     "output_type": "stream",
     "text": [
      "<class 'netCDF4.Dataset'>\n",
      "root group (NETCDF4 data model, file format HDF5):\n",
      "    title: APHRO_MA V1808 daily temperature with 0.25deg grids\n",
      "    dimensions(sizes): lon(360), lat(280), time(365)\n",
      "    variables(dimensions): float64 lon(lon), float64 lat(lat), float64 time(time), float32 tave(time, lat, lon), float32 rstn(time, lat, lon)\n",
      "    groups: \n"
     ]
    }
   ],
   "source": [
    "print(data)"
   ]
  },
  {
   "cell_type": "code",
   "execution_count": 7,
   "id": "68540121",
   "metadata": {},
   "outputs": [
    {
     "data": {
      "text/plain": [
       "netCDF4._netCDF4.Dataset"
      ]
     },
     "execution_count": 7,
     "metadata": {},
     "output_type": "execute_result"
    }
   ],
   "source": [
    "type(data)"
   ]
  },
  {
   "cell_type": "code",
   "execution_count": 8,
   "id": "5dfe07bd",
   "metadata": {},
   "outputs": [
    {
     "name": "stdout",
     "output_type": "stream",
     "text": [
      "dict_keys(['lon', 'lat', 'time', 'tave', 'rstn'])\n"
     ]
    }
   ],
   "source": [
    "print(data.variables.keys())"
   ]
  },
  {
   "cell_type": "code",
   "execution_count": 9,
   "id": "21d6f66c",
   "metadata": {},
   "outputs": [],
   "source": [
    "lon=data.variables['lon']"
   ]
  },
  {
   "cell_type": "code",
   "execution_count": 10,
   "id": "d5fae0d3",
   "metadata": {},
   "outputs": [
    {
     "name": "stdout",
     "output_type": "stream",
     "text": [
      "<class 'netCDF4.Variable'>\n",
      "float64 lon(lon)\n",
      "    units: degrees_east\n",
      "    long_name: Longitude\n",
      "unlimited dimensions: \n",
      "current shape = (360,)\n",
      "filling on, default _FillValue of 9.969209968386869e+36 used\n"
     ]
    }
   ],
   "source": [
    "print(lon)"
   ]
  },
  {
   "cell_type": "code",
   "execution_count": 11,
   "id": "7b2d2561",
   "metadata": {},
   "outputs": [],
   "source": [
    "lat=data.variables['lat']"
   ]
  },
  {
   "cell_type": "code",
   "execution_count": 12,
   "id": "78a8aa9a",
   "metadata": {},
   "outputs": [
    {
     "name": "stdout",
     "output_type": "stream",
     "text": [
      "<class 'netCDF4.Variable'>\n",
      "float64 lat(lat)\n",
      "    units: degrees_north\n",
      "    long_name: Latitude\n",
      "unlimited dimensions: \n",
      "current shape = (280,)\n",
      "filling on, default _FillValue of 9.969209968386869e+36 used\n"
     ]
    }
   ],
   "source": [
    "print(lat)"
   ]
  },
  {
   "cell_type": "code",
   "execution_count": 13,
   "id": "046a506b",
   "metadata": {},
   "outputs": [
    {
     "name": "stdout",
     "output_type": "stream",
     "text": [
      "<class 'netCDF4.Variable'>\n",
      "float64 lon(lon)\n",
      "    units: degrees_east\n",
      "    long_name: Longitude\n",
      "unlimited dimensions: \n",
      "current shape = (360,)\n",
      "filling on, default _FillValue of 9.969209968386869e+36 used\n",
      "------------------------\n",
      "<class 'netCDF4.Variable'>\n",
      "float64 lat(lat)\n",
      "    units: degrees_north\n",
      "    long_name: Latitude\n",
      "unlimited dimensions: \n",
      "current shape = (280,)\n",
      "filling on, default _FillValue of 9.969209968386869e+36 used\n",
      "------------------------\n",
      "<class 'netCDF4.Variable'>\n",
      "float64 time(time)\n",
      "    long_name: Time\n",
      "    units: minutes since 1961-01-01 00:00\n",
      "unlimited dimensions: time\n",
      "current shape = (365,)\n",
      "filling on, default _FillValue of 9.969209968386869e+36 used\n",
      "------------------------\n",
      "<class 'netCDF4.Variable'>\n",
      "float32 tave(time, lat, lon)\n",
      "    _FillValue: -99.9\n",
      "    units: degrees centigrade\n",
      "    long_name:  daily mean temperature analysis interpolated onto 0.25deg grids\n",
      "unlimited dimensions: time\n",
      "current shape = (365, 280, 360)\n",
      "filling on\n",
      "------------------------\n",
      "<class 'netCDF4.Variable'>\n",
      "float32 rstn(time, lat, lon)\n",
      "    _FillValue: -99.9\n",
      "    units: percent\n",
      "    long_name: ratio of 0.05deg-grids with station\n",
      "unlimited dimensions: time\n",
      "current shape = (365, 280, 360)\n",
      "filling on\n",
      "------------------------\n"
     ]
    }
   ],
   "source": [
    "for i in data.variables.keys():\n",
    "    print(data.variables[i])\n",
    "    print('------------------------')"
   ]
  },
  {
   "cell_type": "code",
   "execution_count": 14,
   "id": "6105db63",
   "metadata": {},
   "outputs": [
    {
     "data": {
      "text/plain": [
       "('lon',)"
      ]
     },
     "execution_count": 14,
     "metadata": {},
     "output_type": "execute_result"
    }
   ],
   "source": [
    " lon.dimensions"
   ]
  },
  {
   "cell_type": "code",
   "execution_count": 15,
   "id": "76ee4487",
   "metadata": {},
   "outputs": [
    {
     "data": {
      "text/plain": [
       "('lat',)"
      ]
     },
     "execution_count": 15,
     "metadata": {},
     "output_type": "execute_result"
    }
   ],
   "source": [
    "lat.dimensions"
   ]
  },
  {
   "cell_type": "code",
   "execution_count": 16,
   "id": "7450aa09",
   "metadata": {},
   "outputs": [
    {
     "data": {
      "text/plain": [
       "('time',)"
      ]
     },
     "execution_count": 16,
     "metadata": {},
     "output_type": "execute_result"
    }
   ],
   "source": [
    "data.variables['time'].dimensions"
   ]
  },
  {
   "cell_type": "code",
   "execution_count": 17,
   "id": "a104c7b0",
   "metadata": {},
   "outputs": [
    {
     "data": {
      "text/plain": [
       "('time', 'lat', 'lon')"
      ]
     },
     "execution_count": 17,
     "metadata": {},
     "output_type": "execute_result"
    }
   ],
   "source": [
    "data.variables['tave'].dimensions"
   ]
  },
  {
   "cell_type": "code",
   "execution_count": 18,
   "id": "f3ed2345",
   "metadata": {},
   "outputs": [
    {
     "name": "stdout",
     "output_type": "stream",
     "text": [
      "lon - ('lon',)\n",
      "------------------------\n",
      "lat - ('lat',)\n",
      "------------------------\n",
      "time - ('time',)\n",
      "------------------------\n",
      "tave - ('time', 'lat', 'lon')\n",
      "------------------------\n",
      "rstn - ('time', 'lat', 'lon')\n",
      "------------------------\n"
     ]
    }
   ],
   "source": [
    "for i in data.variables.keys():\n",
    "    print(i,'-' , data.variables[i].dimensions)\n",
    "    print('------------------------')"
   ]
  },
  {
   "cell_type": "code",
   "execution_count": 19,
   "id": "274b11c9",
   "metadata": {},
   "outputs": [
    {
     "name": "stdout",
     "output_type": "stream",
     "text": [
      "[     0.   1440.   2880.   4320.   5760.   7200.   8640.  10080.  11520.\n",
      "  12960.  14400.  15840.  17280.  18720.  20160.  21600.  23040.  24480.\n",
      "  25920.  27360.  28800.  30240.  31680.  33120.  34560.  36000.  37440.\n",
      "  38880.  40320.  41760.  43200.  44640.  46080.  47520.  48960.  50400.\n",
      "  51840.  53280.  54720.  56160.  57600.  59040.  60480.  61920.  63360.\n",
      "  64800.  66240.  67680.  69120.  70560.  72000.  73440.  74880.  76320.\n",
      "  77760.  79200.  80640.  82080.  83520.  84960.  86400.  87840.  89280.\n",
      "  90720.  92160.  93600.  95040.  96480.  97920.  99360. 100800. 102240.\n",
      " 103680. 105120. 106560. 108000. 109440. 110880. 112320. 113760. 115200.\n",
      " 116640. 118080. 119520. 120960. 122400. 123840. 125280. 126720. 128160.\n",
      " 129600. 131040. 132480. 133920. 135360. 136800. 138240. 139680. 141120.\n",
      " 142560. 144000. 145440. 146880. 148320. 149760. 151200. 152640. 154080.\n",
      " 155520. 156960. 158400. 159840. 161280. 162720. 164160. 165600. 167040.\n",
      " 168480. 169920. 171360. 172800. 174240. 175680. 177120. 178560. 180000.\n",
      " 181440. 182880. 184320. 185760. 187200. 188640. 190080. 191520. 192960.\n",
      " 194400. 195840. 197280. 198720. 200160. 201600. 203040. 204480. 205920.\n",
      " 207360. 208800. 210240. 211680. 213120. 214560. 216000. 217440. 218880.\n",
      " 220320. 221760. 223200. 224640. 226080. 227520. 228960. 230400. 231840.\n",
      " 233280. 234720. 236160. 237600. 239040. 240480. 241920. 243360. 244800.\n",
      " 246240. 247680. 249120. 250560. 252000. 253440. 254880. 256320. 257760.\n",
      " 259200. 260640. 262080. 263520. 264960. 266400. 267840. 269280. 270720.\n",
      " 272160. 273600. 275040. 276480. 277920. 279360. 280800. 282240. 283680.\n",
      " 285120. 286560. 288000. 289440. 290880. 292320. 293760. 295200. 296640.\n",
      " 298080. 299520. 300960. 302400. 303840. 305280. 306720. 308160. 309600.\n",
      " 311040. 312480. 313920. 315360. 316800. 318240. 319680. 321120. 322560.\n",
      " 324000. 325440. 326880. 328320. 329760. 331200. 332640. 334080. 335520.\n",
      " 336960. 338400. 339840. 341280. 342720. 344160. 345600. 347040. 348480.\n",
      " 349920. 351360. 352800. 354240. 355680. 357120. 358560. 360000. 361440.\n",
      " 362880. 364320. 365760. 367200. 368640. 370080. 371520. 372960. 374400.\n",
      " 375840. 377280. 378720. 380160. 381600. 383040. 384480. 385920. 387360.\n",
      " 388800. 390240. 391680. 393120. 394560. 396000. 397440. 398880. 400320.\n",
      " 401760. 403200. 404640. 406080. 407520. 408960. 410400. 411840. 413280.\n",
      " 414720. 416160. 417600. 419040. 420480. 421920. 423360. 424800. 426240.\n",
      " 427680. 429120. 430560. 432000. 433440. 434880. 436320. 437760. 439200.\n",
      " 440640. 442080. 443520. 444960. 446400. 447840. 449280. 450720. 452160.\n",
      " 453600. 455040. 456480. 457920. 459360. 460800. 462240. 463680. 465120.\n",
      " 466560. 468000. 469440. 470880. 472320. 473760. 475200. 476640. 478080.\n",
      " 479520. 480960. 482400. 483840. 485280. 486720. 488160. 489600. 491040.\n",
      " 492480. 493920. 495360. 496800. 498240. 499680. 501120. 502560. 504000.\n",
      " 505440. 506880. 508320. 509760. 511200. 512640. 514080. 515520. 516960.\n",
      " 518400. 519840. 521280. 522720. 524160.]\n"
     ]
    }
   ],
   "source": [
    "time_data = data.variables['time'][:]\n",
    "print(time_data)"
   ]
  },
  {
   "cell_type": "code",
   "execution_count": 20,
   "id": "672d84e3",
   "metadata": {},
   "outputs": [
    {
     "name": "stdout",
     "output_type": "stream",
     "text": [
      "[ 60.125  60.375  60.625  60.875  61.125  61.375  61.625  61.875  62.125\n",
      "  62.375  62.625  62.875  63.125  63.375  63.625  63.875  64.125  64.375\n",
      "  64.625  64.875  65.125  65.375  65.625  65.875  66.125  66.375  66.625\n",
      "  66.875  67.125  67.375  67.625  67.875  68.125  68.375  68.625  68.875\n",
      "  69.125  69.375  69.625  69.875  70.125  70.375  70.625  70.875  71.125\n",
      "  71.375  71.625  71.875  72.125  72.375  72.625  72.875  73.125  73.375\n",
      "  73.625  73.875  74.125  74.375  74.625  74.875  75.125  75.375  75.625\n",
      "  75.875  76.125  76.375  76.625  76.875  77.125  77.375  77.625  77.875\n",
      "  78.125  78.375  78.625  78.875  79.125  79.375  79.625  79.875  80.125\n",
      "  80.375  80.625  80.875  81.125  81.375  81.625  81.875  82.125  82.375\n",
      "  82.625  82.875  83.125  83.375  83.625  83.875  84.125  84.375  84.625\n",
      "  84.875  85.125  85.375  85.625  85.875  86.125  86.375  86.625  86.875\n",
      "  87.125  87.375  87.625  87.875  88.125  88.375  88.625  88.875  89.125\n",
      "  89.375  89.625  89.875  90.125  90.375  90.625  90.875  91.125  91.375\n",
      "  91.625  91.875  92.125  92.375  92.625  92.875  93.125  93.375  93.625\n",
      "  93.875  94.125  94.375  94.625  94.875  95.125  95.375  95.625  95.875\n",
      "  96.125  96.375  96.625  96.875  97.125  97.375  97.625  97.875  98.125\n",
      "  98.375  98.625  98.875  99.125  99.375  99.625  99.875 100.125 100.375\n",
      " 100.625 100.875 101.125 101.375 101.625 101.875 102.125 102.375 102.625\n",
      " 102.875 103.125 103.375 103.625 103.875 104.125 104.375 104.625 104.875\n",
      " 105.125 105.375 105.625 105.875 106.125 106.375 106.625 106.875 107.125\n",
      " 107.375 107.625 107.875 108.125 108.375 108.625 108.875 109.125 109.375\n",
      " 109.625 109.875 110.125 110.375 110.625 110.875 111.125 111.375 111.625\n",
      " 111.875 112.125 112.375 112.625 112.875 113.125 113.375 113.625 113.875\n",
      " 114.125 114.375 114.625 114.875 115.125 115.375 115.625 115.875 116.125\n",
      " 116.375 116.625 116.875 117.125 117.375 117.625 117.875 118.125 118.375\n",
      " 118.625 118.875 119.125 119.375 119.625 119.875 120.125 120.375 120.625\n",
      " 120.875 121.125 121.375 121.625 121.875 122.125 122.375 122.625 122.875\n",
      " 123.125 123.375 123.625 123.875 124.125 124.375 124.625 124.875 125.125\n",
      " 125.375 125.625 125.875 126.125 126.375 126.625 126.875 127.125 127.375\n",
      " 127.625 127.875 128.125 128.375 128.625 128.875 129.125 129.375 129.625\n",
      " 129.875 130.125 130.375 130.625 130.875 131.125 131.375 131.625 131.875\n",
      " 132.125 132.375 132.625 132.875 133.125 133.375 133.625 133.875 134.125\n",
      " 134.375 134.625 134.875 135.125 135.375 135.625 135.875 136.125 136.375\n",
      " 136.625 136.875 137.125 137.375 137.625 137.875 138.125 138.375 138.625\n",
      " 138.875 139.125 139.375 139.625 139.875 140.125 140.375 140.625 140.875\n",
      " 141.125 141.375 141.625 141.875 142.125 142.375 142.625 142.875 143.125\n",
      " 143.375 143.625 143.875 144.125 144.375 144.625 144.875 145.125 145.375\n",
      " 145.625 145.875 146.125 146.375 146.625 146.875 147.125 147.375 147.625\n",
      " 147.875 148.125 148.375 148.625 148.875 149.125 149.375 149.625 149.875]\n"
     ]
    }
   ],
   "source": [
    "lon_data = data.variables['lon'][:]\n",
    "print(lon_data)"
   ]
  },
  {
   "cell_type": "code",
   "execution_count": 21,
   "id": "4c23f342",
   "metadata": {},
   "outputs": [
    {
     "name": "stdout",
     "output_type": "stream",
     "text": [
      "[-14.875 -14.625 -14.375 -14.125 -13.875 -13.625 -13.375 -13.125 -12.875\n",
      " -12.625 -12.375 -12.125 -11.875 -11.625 -11.375 -11.125 -10.875 -10.625\n",
      " -10.375 -10.125  -9.875  -9.625  -9.375  -9.125  -8.875  -8.625  -8.375\n",
      "  -8.125  -7.875  -7.625  -7.375  -7.125  -6.875  -6.625  -6.375  -6.125\n",
      "  -5.875  -5.625  -5.375  -5.125  -4.875  -4.625  -4.375  -4.125  -3.875\n",
      "  -3.625  -3.375  -3.125  -2.875  -2.625  -2.375  -2.125  -1.875  -1.625\n",
      "  -1.375  -1.125  -0.875  -0.625  -0.375  -0.125   0.125   0.375   0.625\n",
      "   0.875   1.125   1.375   1.625   1.875   2.125   2.375   2.625   2.875\n",
      "   3.125   3.375   3.625   3.875   4.125   4.375   4.625   4.875   5.125\n",
      "   5.375   5.625   5.875   6.125   6.375   6.625   6.875   7.125   7.375\n",
      "   7.625   7.875   8.125   8.375   8.625   8.875   9.125   9.375   9.625\n",
      "   9.875  10.125  10.375  10.625  10.875  11.125  11.375  11.625  11.875\n",
      "  12.125  12.375  12.625  12.875  13.125  13.375  13.625  13.875  14.125\n",
      "  14.375  14.625  14.875  15.125  15.375  15.625  15.875  16.125  16.375\n",
      "  16.625  16.875  17.125  17.375  17.625  17.875  18.125  18.375  18.625\n",
      "  18.875  19.125  19.375  19.625  19.875  20.125  20.375  20.625  20.875\n",
      "  21.125  21.375  21.625  21.875  22.125  22.375  22.625  22.875  23.125\n",
      "  23.375  23.625  23.875  24.125  24.375  24.625  24.875  25.125  25.375\n",
      "  25.625  25.875  26.125  26.375  26.625  26.875  27.125  27.375  27.625\n",
      "  27.875  28.125  28.375  28.625  28.875  29.125  29.375  29.625  29.875\n",
      "  30.125  30.375  30.625  30.875  31.125  31.375  31.625  31.875  32.125\n",
      "  32.375  32.625  32.875  33.125  33.375  33.625  33.875  34.125  34.375\n",
      "  34.625  34.875  35.125  35.375  35.625  35.875  36.125  36.375  36.625\n",
      "  36.875  37.125  37.375  37.625  37.875  38.125  38.375  38.625  38.875\n",
      "  39.125  39.375  39.625  39.875  40.125  40.375  40.625  40.875  41.125\n",
      "  41.375  41.625  41.875  42.125  42.375  42.625  42.875  43.125  43.375\n",
      "  43.625  43.875  44.125  44.375  44.625  44.875  45.125  45.375  45.625\n",
      "  45.875  46.125  46.375  46.625  46.875  47.125  47.375  47.625  47.875\n",
      "  48.125  48.375  48.625  48.875  49.125  49.375  49.625  49.875  50.125\n",
      "  50.375  50.625  50.875  51.125  51.375  51.625  51.875  52.125  52.375\n",
      "  52.625  52.875  53.125  53.375  53.625  53.875  54.125  54.375  54.625\n",
      "  54.875]\n"
     ]
    }
   ],
   "source": [
    "lat_data = data.variables['lat'][:]\n",
    "print(lat_data)"
   ]
  },
  {
   "cell_type": "code",
   "execution_count": 22,
   "id": "bd5c0410",
   "metadata": {},
   "outputs": [],
   "source": [
    "lat_kathmandu = 27.697817\n",
    "lon_kathmandu = 85.329806"
   ]
  },
  {
   "cell_type": "code",
   "execution_count": 23,
   "id": "062547b4",
   "metadata": {},
   "outputs": [],
   "source": [
    "sq_diff_lat = (lat_data - lat_kathmandu)**2"
   ]
  },
  {
   "cell_type": "code",
   "execution_count": 24,
   "id": "fb5d5006",
   "metadata": {},
   "outputs": [],
   "source": [
    "sq_diff_lon = (lon_data - lon_kathmandu)**2"
   ]
  },
  {
   "cell_type": "code",
   "execution_count": 25,
   "id": "1f57d9cb",
   "metadata": {},
   "outputs": [
    {
     "name": "stdout",
     "output_type": "stream",
     "text": [
      "[1.81244475e+03 1.79122084e+03 1.77012193e+03 1.74914802e+03\n",
      " 1.72829911e+03 1.70757520e+03 1.68697630e+03 1.66650239e+03\n",
      " 1.64615348e+03 1.62592957e+03 1.60583066e+03 1.58585675e+03\n",
      " 1.56600785e+03 1.54628394e+03 1.52668503e+03 1.50721112e+03\n",
      " 1.48786221e+03 1.46863830e+03 1.44953939e+03 1.43056549e+03\n",
      " 1.41171658e+03 1.39299267e+03 1.37439376e+03 1.35591985e+03\n",
      " 1.33757094e+03 1.31934703e+03 1.30124813e+03 1.28327422e+03\n",
      " 1.26542531e+03 1.24770140e+03 1.23010249e+03 1.21262858e+03\n",
      " 1.19527968e+03 1.17805577e+03 1.16095686e+03 1.14398295e+03\n",
      " 1.12713404e+03 1.11041013e+03 1.09381122e+03 1.07733732e+03\n",
      " 1.06098841e+03 1.04476450e+03 1.02866559e+03 1.01269168e+03\n",
      " 9.96842773e+02 9.81118865e+02 9.65519956e+02 9.50046048e+02\n",
      " 9.34697139e+02 9.19473231e+02 9.04374322e+02 8.89400414e+02\n",
      " 8.74551505e+02 8.59827597e+02 8.45228688e+02 8.30754780e+02\n",
      " 8.16405871e+02 8.02181963e+02 7.88083054e+02 7.74109146e+02\n",
      " 7.60260237e+02 7.46536329e+02 7.32937420e+02 7.19463512e+02\n",
      " 7.06114603e+02 6.92890695e+02 6.79791786e+02 6.66817878e+02\n",
      " 6.53968969e+02 6.41245061e+02 6.28646152e+02 6.16172244e+02\n",
      " 6.03823335e+02 5.91599427e+02 5.79500518e+02 5.67526610e+02\n",
      " 5.55677701e+02 5.43953793e+02 5.32354884e+02 5.20880976e+02\n",
      " 5.09532067e+02 4.98308159e+02 4.87209250e+02 4.76235342e+02\n",
      " 4.65386433e+02 4.54662525e+02 4.44063616e+02 4.33589708e+02\n",
      " 4.23240799e+02 4.13016891e+02 4.02917982e+02 3.92944074e+02\n",
      " 3.83095165e+02 3.73371257e+02 3.63772348e+02 3.54298440e+02\n",
      " 3.44949531e+02 3.35725623e+02 3.26626714e+02 3.17652806e+02\n",
      " 3.08803897e+02 3.00079989e+02 2.91481080e+02 2.83007172e+02\n",
      " 2.74658263e+02 2.66434355e+02 2.58335446e+02 2.50361538e+02\n",
      " 2.42512629e+02 2.34788721e+02 2.27189812e+02 2.19715904e+02\n",
      " 2.12366995e+02 2.05143087e+02 1.98044178e+02 1.91070270e+02\n",
      " 1.84221361e+02 1.77497453e+02 1.70898544e+02 1.64424636e+02\n",
      " 1.58075727e+02 1.51851819e+02 1.45752910e+02 1.39779002e+02\n",
      " 1.33930093e+02 1.28206185e+02 1.22607276e+02 1.17133368e+02\n",
      " 1.11784459e+02 1.06560551e+02 1.01461642e+02 9.64877338e+01\n",
      " 9.16388253e+01 8.69149168e+01 8.23160083e+01 7.78420998e+01\n",
      " 7.34931913e+01 6.92692828e+01 6.51703743e+01 6.11964658e+01\n",
      " 5.73475573e+01 5.36236488e+01 5.00247403e+01 4.65508318e+01\n",
      " 4.32019233e+01 3.99780148e+01 3.68791063e+01 3.39051978e+01\n",
      " 3.10562893e+01 2.83323808e+01 2.57334723e+01 2.32595638e+01\n",
      " 2.09106553e+01 1.86867468e+01 1.65878383e+01 1.46139298e+01\n",
      " 1.27650213e+01 1.10411128e+01 9.44220432e+00 7.96829582e+00\n",
      " 6.61938732e+00 5.39547882e+00 4.29657032e+00 3.32266182e+00\n",
      " 2.47375332e+00 1.74984482e+00 1.15093632e+00 6.77027815e-01\n",
      " 3.28119315e-01 1.04210815e-01 5.30231549e-03 3.13938155e-02\n",
      " 1.82485315e-01 4.58576815e-01 8.59668315e-01 1.38575982e+00\n",
      " 2.03685132e+00 2.81294282e+00 3.71403432e+00 4.74012582e+00\n",
      " 5.89121732e+00 7.16730882e+00 8.56840032e+00 1.00944918e+01\n",
      " 1.17455833e+01 1.35216748e+01 1.54227663e+01 1.74488578e+01\n",
      " 1.95999493e+01 2.18760408e+01 2.42771323e+01 2.68032238e+01\n",
      " 2.94543153e+01 3.22304068e+01 3.51314983e+01 3.81575898e+01\n",
      " 4.13086813e+01 4.45847728e+01 4.79858643e+01 5.15119558e+01\n",
      " 5.51630473e+01 5.89391388e+01 6.28402303e+01 6.68663218e+01\n",
      " 7.10174133e+01 7.52935048e+01 7.96945963e+01 8.42206878e+01\n",
      " 8.88717793e+01 9.36478708e+01 9.85489623e+01 1.03575054e+02\n",
      " 1.08726145e+02 1.14002237e+02 1.19403328e+02 1.24929420e+02\n",
      " 1.30580511e+02 1.36356603e+02 1.42257694e+02 1.48283786e+02\n",
      " 1.54434877e+02 1.60710969e+02 1.67112060e+02 1.73638152e+02\n",
      " 1.80289243e+02 1.87065335e+02 1.93966426e+02 2.00992518e+02\n",
      " 2.08143609e+02 2.15419701e+02 2.22820792e+02 2.30346884e+02\n",
      " 2.37997975e+02 2.45774067e+02 2.53675158e+02 2.61701250e+02\n",
      " 2.69852341e+02 2.78128433e+02 2.86529524e+02 2.95055616e+02\n",
      " 3.03706707e+02 3.12482799e+02 3.21383890e+02 3.30409982e+02\n",
      " 3.39561073e+02 3.48837165e+02 3.58238256e+02 3.67764348e+02\n",
      " 3.77415439e+02 3.87191531e+02 3.97092622e+02 4.07118714e+02\n",
      " 4.17269805e+02 4.27545897e+02 4.37946988e+02 4.48473080e+02\n",
      " 4.59124171e+02 4.69900263e+02 4.80801354e+02 4.91827446e+02\n",
      " 5.02978537e+02 5.14254629e+02 5.25655720e+02 5.37181812e+02\n",
      " 5.48832903e+02 5.60608995e+02 5.72510086e+02 5.84536178e+02\n",
      " 5.96687269e+02 6.08963361e+02 6.21364452e+02 6.33890544e+02\n",
      " 6.46541635e+02 6.59317727e+02 6.72218818e+02 6.85244910e+02\n",
      " 6.98396001e+02 7.11672093e+02 7.25073184e+02 7.38599276e+02]\n"
     ]
    }
   ],
   "source": [
    "print(sq_diff_lat)"
   ]
  },
  {
   "cell_type": "code",
   "execution_count": 26,
   "id": "38c2033a",
   "metadata": {},
   "outputs": [
    {
     "name": "stdout",
     "output_type": "stream",
     "text": [
      "[6.35282245e+02 6.22742342e+02 6.10327439e+02 5.98037536e+02\n",
      " 5.85872633e+02 5.73832730e+02 5.61917827e+02 5.50127924e+02\n",
      " 5.38463021e+02 5.26923118e+02 5.15508215e+02 5.04218312e+02\n",
      " 4.93053409e+02 4.82013506e+02 4.71098603e+02 4.60308700e+02\n",
      " 4.49643797e+02 4.39103894e+02 4.28688991e+02 4.18399088e+02\n",
      " 4.08234185e+02 3.98194282e+02 3.88279379e+02 3.78489476e+02\n",
      " 3.68824573e+02 3.59284670e+02 3.49869767e+02 3.40579864e+02\n",
      " 3.31414961e+02 3.22375058e+02 3.13460155e+02 3.04670252e+02\n",
      " 2.96005349e+02 2.87465446e+02 2.79050543e+02 2.70760640e+02\n",
      " 2.62595737e+02 2.54555834e+02 2.46640931e+02 2.38851028e+02\n",
      " 2.31186125e+02 2.23646222e+02 2.16231319e+02 2.08941416e+02\n",
      " 2.01776513e+02 1.94736610e+02 1.87821707e+02 1.81031804e+02\n",
      " 1.74366901e+02 1.67826998e+02 1.61412095e+02 1.55122192e+02\n",
      " 1.48957289e+02 1.42917386e+02 1.37002483e+02 1.31212580e+02\n",
      " 1.25547677e+02 1.20007774e+02 1.14592871e+02 1.09302968e+02\n",
      " 1.04138065e+02 9.90981625e+01 9.41832595e+01 8.93933565e+01\n",
      " 8.47284535e+01 8.01885505e+01 7.57736475e+01 7.14837445e+01\n",
      " 6.73188415e+01 6.32789385e+01 5.93640355e+01 5.55741325e+01\n",
      " 5.19092295e+01 4.83693265e+01 4.49544235e+01 4.16645205e+01\n",
      " 3.84996175e+01 3.54597145e+01 3.25448115e+01 2.97549085e+01\n",
      " 2.70900055e+01 2.45501025e+01 2.21351995e+01 1.98452965e+01\n",
      " 1.76803935e+01 1.56404905e+01 1.37255875e+01 1.19356845e+01\n",
      " 1.02707815e+01 8.73087850e+00 7.31597550e+00 6.02607250e+00\n",
      " 4.86116950e+00 3.82126650e+00 2.90636350e+00 2.11646050e+00\n",
      " 1.45155750e+00 9.11654498e-01 4.96751498e-01 2.06848498e-01\n",
      " 4.19454976e-02 2.04249764e-03 8.71394976e-02 2.97236498e-01\n",
      " 6.32333498e-01 1.09243050e+00 1.67752750e+00 2.38762450e+00\n",
      " 3.22272150e+00 4.18281850e+00 5.26791550e+00 6.47801250e+00\n",
      " 7.81310950e+00 9.27320650e+00 1.08583035e+01 1.25684005e+01\n",
      " 1.44034975e+01 1.63635945e+01 1.84486915e+01 2.06587885e+01\n",
      " 2.29938855e+01 2.54539825e+01 2.80390795e+01 3.07491765e+01\n",
      " 3.35842735e+01 3.65443705e+01 3.96294675e+01 4.28395645e+01\n",
      " 4.61746615e+01 4.96347585e+01 5.32198555e+01 5.69299525e+01\n",
      " 6.07650495e+01 6.47251465e+01 6.88102435e+01 7.30203405e+01\n",
      " 7.73554375e+01 8.18155345e+01 8.64006315e+01 9.11107285e+01\n",
      " 9.59458255e+01 1.00905922e+02 1.05991019e+02 1.11201116e+02\n",
      " 1.16536213e+02 1.21996310e+02 1.27581407e+02 1.33291504e+02\n",
      " 1.39126601e+02 1.45086698e+02 1.51171795e+02 1.57381892e+02\n",
      " 1.63716989e+02 1.70177086e+02 1.76762183e+02 1.83472280e+02\n",
      " 1.90307377e+02 1.97267474e+02 2.04352571e+02 2.11562668e+02\n",
      " 2.18897765e+02 2.26357862e+02 2.33942959e+02 2.41653056e+02\n",
      " 2.49488153e+02 2.57448250e+02 2.65533347e+02 2.73743444e+02\n",
      " 2.82078541e+02 2.90538638e+02 2.99123735e+02 3.07833832e+02\n",
      " 3.16668929e+02 3.25629026e+02 3.34714123e+02 3.43924220e+02\n",
      " 3.53259317e+02 3.62719414e+02 3.72304511e+02 3.82014608e+02\n",
      " 3.91849705e+02 4.01809802e+02 4.11894899e+02 4.22104996e+02\n",
      " 4.32440093e+02 4.42900190e+02 4.53485287e+02 4.64195384e+02\n",
      " 4.75030481e+02 4.85990578e+02 4.97075675e+02 5.08285772e+02\n",
      " 5.19620869e+02 5.31080966e+02 5.42666063e+02 5.54376160e+02\n",
      " 5.66211257e+02 5.78171354e+02 5.90256451e+02 6.02466548e+02\n",
      " 6.14801645e+02 6.27261742e+02 6.39846839e+02 6.52556936e+02\n",
      " 6.65392033e+02 6.78352130e+02 6.91437227e+02 7.04647324e+02\n",
      " 7.17982421e+02 7.31442518e+02 7.45027615e+02 7.58737712e+02\n",
      " 7.72572809e+02 7.86532906e+02 8.00618003e+02 8.14828100e+02\n",
      " 8.29163197e+02 8.43623294e+02 8.58208391e+02 8.72918488e+02\n",
      " 8.87753585e+02 9.02713682e+02 9.17798779e+02 9.33008876e+02\n",
      " 9.48343973e+02 9.63804070e+02 9.79389167e+02 9.95099264e+02\n",
      " 1.01093436e+03 1.02689446e+03 1.04297956e+03 1.05918965e+03\n",
      " 1.07552475e+03 1.09198485e+03 1.10856994e+03 1.12528004e+03\n",
      " 1.14211514e+03 1.15907523e+03 1.17616033e+03 1.19337043e+03\n",
      " 1.21070553e+03 1.22816562e+03 1.24575072e+03 1.26346082e+03\n",
      " 1.28129591e+03 1.29925601e+03 1.31734111e+03 1.33555120e+03\n",
      " 1.35388630e+03 1.37234640e+03 1.39093150e+03 1.40964159e+03\n",
      " 1.42847669e+03 1.44743679e+03 1.46652188e+03 1.48573198e+03\n",
      " 1.50506708e+03 1.52452717e+03 1.54411227e+03 1.56382237e+03\n",
      " 1.58365747e+03 1.60361756e+03 1.62370266e+03 1.64391276e+03\n",
      " 1.66424785e+03 1.68470795e+03 1.70529305e+03 1.72600314e+03\n",
      " 1.74683824e+03 1.76779834e+03 1.78888344e+03 1.81009353e+03\n",
      " 1.83142863e+03 1.85288873e+03 1.87447382e+03 1.89618392e+03\n",
      " 1.91801902e+03 1.93997911e+03 1.96206421e+03 1.98427431e+03\n",
      " 2.00660941e+03 2.02906950e+03 2.05165460e+03 2.07436470e+03\n",
      " 2.09719979e+03 2.12015989e+03 2.14324499e+03 2.16645508e+03\n",
      " 2.18979018e+03 2.21325028e+03 2.23683538e+03 2.26054547e+03\n",
      " 2.28438057e+03 2.30834067e+03 2.33242576e+03 2.35663586e+03\n",
      " 2.38097096e+03 2.40543105e+03 2.43001615e+03 2.45472625e+03\n",
      " 2.47956135e+03 2.50452144e+03 2.52960654e+03 2.55481664e+03\n",
      " 2.58015173e+03 2.60561183e+03 2.63119693e+03 2.65690702e+03\n",
      " 2.68274212e+03 2.70870222e+03 2.73478732e+03 2.76099741e+03\n",
      " 2.78733251e+03 2.81379261e+03 2.84037770e+03 2.86708780e+03\n",
      " 2.89392290e+03 2.92088299e+03 2.94796809e+03 2.97517819e+03\n",
      " 3.00251329e+03 3.02997338e+03 3.05755848e+03 3.08526858e+03\n",
      " 3.11310367e+03 3.14106377e+03 3.16914887e+03 3.19735896e+03\n",
      " 3.22569406e+03 3.25415416e+03 3.28273926e+03 3.31144935e+03\n",
      " 3.34028445e+03 3.36924455e+03 3.39832964e+03 3.42753974e+03\n",
      " 3.45687484e+03 3.48633493e+03 3.51592003e+03 3.54563013e+03\n",
      " 3.57546523e+03 3.60542532e+03 3.63551042e+03 3.66572052e+03\n",
      " 3.69605561e+03 3.72651571e+03 3.75710081e+03 3.78781090e+03\n",
      " 3.81864600e+03 3.84960610e+03 3.88069120e+03 3.91190129e+03\n",
      " 3.94323639e+03 3.97469649e+03 4.00628158e+03 4.03799168e+03\n",
      " 4.06982678e+03 4.10178687e+03 4.13387197e+03 4.16608207e+03]\n"
     ]
    }
   ],
   "source": [
    "print(sq_diff_lon)"
   ]
  },
  {
   "cell_type": "markdown",
   "id": "bb54c349",
   "metadata": {},
   "source": [
    "Identifying the index of minimum value for lat and lon"
   ]
  },
  {
   "cell_type": "code",
   "execution_count": 27,
   "id": "ecb2b8b7",
   "metadata": {},
   "outputs": [],
   "source": [
    "min_index_lat = sq_diff_lat.argmin()"
   ]
  },
  {
   "cell_type": "code",
   "execution_count": 28,
   "id": "0052dc12",
   "metadata": {},
   "outputs": [
    {
     "name": "stdout",
     "output_type": "stream",
     "text": [
      "170\n"
     ]
    }
   ],
   "source": [
    "print(min_index_lat)"
   ]
  },
  {
   "cell_type": "code",
   "execution_count": 29,
   "id": "0d3d4cb7",
   "metadata": {},
   "outputs": [],
   "source": [
    "min_index_lon = sq_diff_lon.argmin()"
   ]
  },
  {
   "cell_type": "code",
   "execution_count": 30,
   "id": "834625d1",
   "metadata": {},
   "outputs": [
    {
     "name": "stdout",
     "output_type": "stream",
     "text": [
      "101\n"
     ]
    }
   ],
   "source": [
    "print(min_index_lon)"
   ]
  },
  {
   "cell_type": "code",
   "execution_count": 31,
   "id": "e016c4cc",
   "metadata": {},
   "outputs": [
    {
     "name": "stdout",
     "output_type": "stream",
     "text": [
      "13.143258\n"
     ]
    }
   ],
   "source": [
    "print(data.variables['tave'][0,170,101])"
   ]
  },
  {
   "cell_type": "code",
   "execution_count": 32,
   "id": "8f9c290c",
   "metadata": {},
   "outputs": [],
   "source": [
    "start_date = data.variables['time'].units[14:24]"
   ]
  },
  {
   "cell_type": "code",
   "execution_count": 33,
   "id": "18117bbc",
   "metadata": {},
   "outputs": [],
   "source": [
    "end_date = data.variables['time'].units[14:18]+'-12-31'"
   ]
  },
  {
   "cell_type": "code",
   "execution_count": 34,
   "id": "b8d940df",
   "metadata": {},
   "outputs": [
    {
     "data": {
      "text/plain": [
       "'1961-01-01'"
      ]
     },
     "execution_count": 34,
     "metadata": {},
     "output_type": "execute_result"
    }
   ],
   "source": [
    "start_date"
   ]
  },
  {
   "cell_type": "code",
   "execution_count": 35,
   "id": "75f4014a",
   "metadata": {},
   "outputs": [
    {
     "data": {
      "text/plain": [
       "'1961-12-31'"
      ]
     },
     "execution_count": 35,
     "metadata": {},
     "output_type": "execute_result"
    }
   ],
   "source": [
    "end_date"
   ]
  },
  {
   "cell_type": "code",
   "execution_count": 36,
   "id": "d1a71a35",
   "metadata": {},
   "outputs": [],
   "source": [
    "import pandas as pd"
   ]
  },
  {
   "cell_type": "code",
   "execution_count": 37,
   "id": "77956f87",
   "metadata": {},
   "outputs": [],
   "source": [
    "date_range = pd.date_range(start=start_date,end = end_date)"
   ]
  },
  {
   "cell_type": "code",
   "execution_count": 38,
   "id": "38da064d",
   "metadata": {},
   "outputs": [
    {
     "name": "stdout",
     "output_type": "stream",
     "text": [
      "DatetimeIndex(['1961-01-01', '1961-01-02', '1961-01-03', '1961-01-04',\n",
      "               '1961-01-05', '1961-01-06', '1961-01-07', '1961-01-08',\n",
      "               '1961-01-09', '1961-01-10',\n",
      "               ...\n",
      "               '1961-12-22', '1961-12-23', '1961-12-24', '1961-12-25',\n",
      "               '1961-12-26', '1961-12-27', '1961-12-28', '1961-12-29',\n",
      "               '1961-12-30', '1961-12-31'],\n",
      "              dtype='datetime64[ns]', length=365, freq='D')\n"
     ]
    }
   ],
   "source": [
    "print(date_range)"
   ]
  },
  {
   "cell_type": "code",
   "execution_count": 39,
   "id": "eac46e11",
   "metadata": {},
   "outputs": [],
   "source": [
    "df = pd.DataFrame(0,columns=['Temperature'], index = date_range)"
   ]
  },
  {
   "cell_type": "code",
   "execution_count": 40,
   "id": "f20400a6",
   "metadata": {},
   "outputs": [
    {
     "name": "stdout",
     "output_type": "stream",
     "text": [
      "            Temperature\n",
      "1961-01-01            0\n",
      "1961-01-02            0\n",
      "1961-01-03            0\n",
      "1961-01-04            0\n",
      "1961-01-05            0\n",
      "...                 ...\n",
      "1961-12-27            0\n",
      "1961-12-28            0\n",
      "1961-12-29            0\n",
      "1961-12-30            0\n",
      "1961-12-31            0\n",
      "\n",
      "[365 rows x 1 columns]\n"
     ]
    }
   ],
   "source": [
    "print(df)"
   ]
  },
  {
   "cell_type": "code",
   "execution_count": 41,
   "id": "c425d645",
   "metadata": {},
   "outputs": [],
   "source": [
    "dt = np.arange(0, data.variables['time'].size)"
   ]
  },
  {
   "cell_type": "code",
   "execution_count": 42,
   "id": "34d703ac",
   "metadata": {},
   "outputs": [
    {
     "name": "stdout",
     "output_type": "stream",
     "text": [
      "[  0   1   2   3   4   5   6   7   8   9  10  11  12  13  14  15  16  17\n",
      "  18  19  20  21  22  23  24  25  26  27  28  29  30  31  32  33  34  35\n",
      "  36  37  38  39  40  41  42  43  44  45  46  47  48  49  50  51  52  53\n",
      "  54  55  56  57  58  59  60  61  62  63  64  65  66  67  68  69  70  71\n",
      "  72  73  74  75  76  77  78  79  80  81  82  83  84  85  86  87  88  89\n",
      "  90  91  92  93  94  95  96  97  98  99 100 101 102 103 104 105 106 107\n",
      " 108 109 110 111 112 113 114 115 116 117 118 119 120 121 122 123 124 125\n",
      " 126 127 128 129 130 131 132 133 134 135 136 137 138 139 140 141 142 143\n",
      " 144 145 146 147 148 149 150 151 152 153 154 155 156 157 158 159 160 161\n",
      " 162 163 164 165 166 167 168 169 170 171 172 173 174 175 176 177 178 179\n",
      " 180 181 182 183 184 185 186 187 188 189 190 191 192 193 194 195 196 197\n",
      " 198 199 200 201 202 203 204 205 206 207 208 209 210 211 212 213 214 215\n",
      " 216 217 218 219 220 221 222 223 224 225 226 227 228 229 230 231 232 233\n",
      " 234 235 236 237 238 239 240 241 242 243 244 245 246 247 248 249 250 251\n",
      " 252 253 254 255 256 257 258 259 260 261 262 263 264 265 266 267 268 269\n",
      " 270 271 272 273 274 275 276 277 278 279 280 281 282 283 284 285 286 287\n",
      " 288 289 290 291 292 293 294 295 296 297 298 299 300 301 302 303 304 305\n",
      " 306 307 308 309 310 311 312 313 314 315 316 317 318 319 320 321 322 323\n",
      " 324 325 326 327 328 329 330 331 332 333 334 335 336 337 338 339 340 341\n",
      " 342 343 344 345 346 347 348 349 350 351 352 353 354 355 356 357 358 359\n",
      " 360 361 362 363 364]\n"
     ]
    }
   ],
   "source": [
    "print(dt)"
   ]
  },
  {
   "cell_type": "code",
   "execution_count": 43,
   "id": "c14d23ac",
   "metadata": {},
   "outputs": [],
   "source": [
    "for i in dt:\n",
    "    df.iloc[i] = data.variables['tave'][i,min_index_lat,min_index_lon]"
   ]
  },
  {
   "cell_type": "code",
   "execution_count": 44,
   "id": "edf1a140",
   "metadata": {},
   "outputs": [
    {
     "data": {
      "text/html": [
       "<div>\n",
       "<style scoped>\n",
       "    .dataframe tbody tr th:only-of-type {\n",
       "        vertical-align: middle;\n",
       "    }\n",
       "\n",
       "    .dataframe tbody tr th {\n",
       "        vertical-align: top;\n",
       "    }\n",
       "\n",
       "    .dataframe thead th {\n",
       "        text-align: right;\n",
       "    }\n",
       "</style>\n",
       "<table border=\"1\" class=\"dataframe\">\n",
       "  <thead>\n",
       "    <tr style=\"text-align: right;\">\n",
       "      <th></th>\n",
       "      <th>Temperature</th>\n",
       "    </tr>\n",
       "  </thead>\n",
       "  <tbody>\n",
       "    <tr>\n",
       "      <th>1961-01-01</th>\n",
       "      <td>13.143258</td>\n",
       "    </tr>\n",
       "    <tr>\n",
       "      <th>1961-01-02</th>\n",
       "      <td>11.123806</td>\n",
       "    </tr>\n",
       "    <tr>\n",
       "      <th>1961-01-03</th>\n",
       "      <td>10.084595</td>\n",
       "    </tr>\n",
       "    <tr>\n",
       "      <th>1961-01-04</th>\n",
       "      <td>10.658081</td>\n",
       "    </tr>\n",
       "    <tr>\n",
       "      <th>1961-01-05</th>\n",
       "      <td>9.927292</td>\n",
       "    </tr>\n",
       "    <tr>\n",
       "      <th>...</th>\n",
       "      <td>...</td>\n",
       "    </tr>\n",
       "    <tr>\n",
       "      <th>1961-12-27</th>\n",
       "      <td>6.262105</td>\n",
       "    </tr>\n",
       "    <tr>\n",
       "      <th>1961-12-28</th>\n",
       "      <td>6.677558</td>\n",
       "    </tr>\n",
       "    <tr>\n",
       "      <th>1961-12-29</th>\n",
       "      <td>7.983207</td>\n",
       "    </tr>\n",
       "    <tr>\n",
       "      <th>1961-12-30</th>\n",
       "      <td>7.731540</td>\n",
       "    </tr>\n",
       "    <tr>\n",
       "      <th>1961-12-31</th>\n",
       "      <td>7.861084</td>\n",
       "    </tr>\n",
       "  </tbody>\n",
       "</table>\n",
       "<p>365 rows × 1 columns</p>\n",
       "</div>"
      ],
      "text/plain": [
       "            Temperature\n",
       "1961-01-01    13.143258\n",
       "1961-01-02    11.123806\n",
       "1961-01-03    10.084595\n",
       "1961-01-04    10.658081\n",
       "1961-01-05     9.927292\n",
       "...                 ...\n",
       "1961-12-27     6.262105\n",
       "1961-12-28     6.677558\n",
       "1961-12-29     7.983207\n",
       "1961-12-30     7.731540\n",
       "1961-12-31     7.861084\n",
       "\n",
       "[365 rows x 1 columns]"
      ]
     },
     "execution_count": 44,
     "metadata": {},
     "output_type": "execute_result"
    }
   ],
   "source": [
    "df"
   ]
  },
  {
   "cell_type": "code",
   "execution_count": 45,
   "id": "a94f0b59",
   "metadata": {},
   "outputs": [
    {
     "data": {
      "image/png": "[encoded data removed]",
      "text/plain": [
       "<Figure size 1200x500 with 1 Axes>"
      ]
     },
     "metadata": {},
     "output_type": "display_data"
    }
   ],
   "source": [
    "import matplotlib.pyplot as plt\n",
    "\n",
    "plt.figure(figsize=(12, 5))\n",
    "plt.plot(df.index, df['Temperature'], marker='', linestyle='-', color='b', label=\"Temperature\")\n",
    "plt.xlabel(\"Date\")\n",
    "plt.ylabel(\"Temperature (°C)\")\n",
    "plt.title(\"Daily Temperature Over One Year\")\n",
    "plt.xticks(rotation=45)  \n",
    "plt.grid(True)\n",
    "plt.legend()\n",
    "plt.show() "
   ]
  },
  {
   "cell_type": "code",
   "execution_count": 46,
   "id": "6257f6ab",
   "metadata": {},
   "outputs": [
    {
     "name": "stdout",
     "output_type": "stream",
     "text": [
      "Requirement already satisfied: basemap in c:\\users\\administrator\\anaconda3\\lib\\site-packages (1.4.1)\n",
      "Requirement already satisfied: basemap-data<1.4,>=1.3.2 in c:\\users\\administrator\\anaconda3\\lib\\site-packages (from basemap) (1.3.2)\n",
      "Requirement already satisfied: pyshp<2.4,>=1.2 in c:\\users\\administrator\\anaconda3\\lib\\site-packages (from basemap) (2.3.1)\n",
      "Requirement already satisfied: matplotlib<3.9,>=1.5 in c:\\users\\administrator\\anaconda3\\lib\\site-packages (from basemap) (3.7.2)\n",
      "Requirement already satisfied: pyproj<3.7.0,>=1.9.3 in c:\\users\\administrator\\anaconda3\\lib\\site-packages (from basemap) (3.6.1)\n",
      "Requirement already satisfied: packaging<24.0,>=16.0 in c:\\users\\administrator\\anaconda3\\lib\\site-packages (from basemap) (23.1)\n",
      "Requirement already satisfied: numpy<1.27,>=1.21 in c:\\users\\administrator\\appdata\\roaming\\python\\python311\\site-packages (from basemap) (1.24.3)\n",
      "Requirement already satisfied: contourpy>=1.0.1 in c:\\users\\administrator\\anaconda3\\lib\\site-packages (from matplotlib<3.9,>=1.5->basemap) (1.0.5)\n",
      "Requirement already satisfied: cycler>=0.10 in c:\\users\\administrator\\anaconda3\\lib\\site-packages (from matplotlib<3.9,>=1.5->basemap) (0.11.0)\n",
      "Requirement already satisfied: fonttools>=4.22.0 in c:\\users\\administrator\\anaconda3\\lib\\site-packages (from matplotlib<3.9,>=1.5->basemap) (4.25.0)\n",
      "Requirement already satisfied: kiwisolver>=1.0.1 in c:\\users\\administrator\\anaconda3\\lib\\site-packages (from matplotlib<3.9,>=1.5->basemap) (1.4.4)\n",
      "Requirement already satisfied: pillow>=6.2.0 in c:\\users\\administrator\\anaconda3\\lib\\site-packages (from matplotlib<3.9,>=1.5->basemap) (9.4.0)\n",
      "Requirement already satisfied: pyparsing<3.1,>=2.3.1 in c:\\users\\administrator\\anaconda3\\lib\\site-packages (from matplotlib<3.9,>=1.5->basemap) (3.0.9)\n",
      "Requirement already satisfied: python-dateutil>=2.7 in c:\\users\\administrator\\anaconda3\\lib\\site-packages (from matplotlib<3.9,>=1.5->basemap) (2.8.2)\n",
      "Requirement already satisfied: certifi in c:\\users\\administrator\\anaconda3\\lib\\site-packages (from pyproj<3.7.0,>=1.9.3->basemap) (2023.7.22)\n",
      "Requirement already satisfied: six>=1.5 in c:\\users\\administrator\\anaconda3\\lib\\site-packages (from python-dateutil>=2.7->matplotlib<3.9,>=1.5->basemap) (1.16.0)\n",
      "Note: you may need to restart the kernel to use updated packages.\n"
     ]
    }
   ],
   "source": [
    "pip install basemap"
   ]
  },
  {
   "cell_type": "code",
   "execution_count": 47,
   "id": "4446abb7",
   "metadata": {},
   "outputs": [],
   "source": [
    "from mpl_toolkits.basemap import Basemap"
   ]
  },
  {
   "cell_type": "code",
   "execution_count": 48,
   "id": "62b2a3d8",
   "metadata": {},
   "outputs": [
    {
     "name": "stdout",
     "output_type": "stream",
     "text": [
      "[[[-- -- -- ... -- -- --]\n",
      "  [-- -- -- ... -- -- --]\n",
      "  [-- -- -- ... -- -- --]\n",
      "  ...\n",
      "  [-9.18522834777832 -9.373512268066406 -9.561306953430176 ... -- -- --]\n",
      "  [-8.848272323608398 -8.821635246276855 -8.864339828491211 ... -- -- --]\n",
      "  [-8.441478729248047 -8.429448127746582 -8.398478507995605 ... -- -- --]]\n",
      "\n",
      " [[-- -- -- ... -- -- --]\n",
      "  [-- -- -- ... -- -- --]\n",
      "  [-- -- -- ... -- -- --]\n",
      "  ...\n",
      "  [-8.036527633666992 -8.042878150939941 -7.826496601104736 ... -- -- --]\n",
      "  [-7.769730567932129 -7.579432964324951 -7.5002217292785645 ... -- --\n",
      "   --]\n",
      "  [-7.6833882331848145 -7.562580585479736 -7.451108455657959 ... -- --\n",
      "   --]]\n",
      "\n",
      " [[-- -- -- ... -- -- --]\n",
      "  [-- -- -- ... -- -- --]\n",
      "  [-- -- -- ... -- -- --]\n",
      "  ...\n",
      "  [-10.553631782531738 -10.525123596191406 -10.302777290344238 ... -- --\n",
      "   --]\n",
      "  [-10.61086654663086 -10.372208595275879 -10.19784927368164 ... -- --\n",
      "   --]\n",
      "  [-10.726982116699219 -10.448410987854004 -10.174612998962402 ... -- --\n",
      "   --]]\n",
      "\n",
      " ...\n",
      "\n",
      " [[-- -- -- ... -- -- --]\n",
      "  [-- -- -- ... -- -- --]\n",
      "  [-- -- -- ... -- -- --]\n",
      "  ...\n",
      "  [-11.216008186340332 -11.269865989685059 -11.444108963012695 ... -- --\n",
      "   --]\n",
      "  [-11.40415096282959 -11.316052436828613 -11.239524841308594 ... -- --\n",
      "   --]\n",
      "  [-11.33668327331543 -11.252191543579102 -11.183682441711426 ... -- --\n",
      "   --]]\n",
      "\n",
      " [[-- -- -- ... -- -- --]\n",
      "  [-- -- -- ... -- -- --]\n",
      "  [-- -- -- ... -- -- --]\n",
      "  ...\n",
      "  [-14.240584373474121 -14.365304946899414 -14.604053497314453 ... -- --\n",
      "   --]\n",
      "  [-14.862181663513184 -14.88428783416748 -14.915681838989258 ... -- --\n",
      "   --]\n",
      "  [-14.956589698791504 -15.20583724975586 -15.316791534423828 ... -- --\n",
      "   --]]\n",
      "\n",
      " [[-- -- -- ... -- -- --]\n",
      "  [-- -- -- ... -- -- --]\n",
      "  [-- -- -- ... -- -- --]\n",
      "  ...\n",
      "  [-15.51610279083252 -15.739580154418945 -16.26454734802246 ... -- --\n",
      "   --]\n",
      "  [-16.283693313598633 -16.44174575805664 -16.47962760925293 ... -- --\n",
      "   --]\n",
      "  [-16.12704849243164 -16.368833541870117 -16.67061424255371 ... -- --\n",
      "   --]]]\n"
     ]
    }
   ],
   "source": [
    "tave_data = data.variables['tave'][:]\n",
    "print(tave_data)"
   ]
  },
  {
   "cell_type": "code",
   "execution_count": 49,
   "id": "609ff41f",
   "metadata": {},
   "outputs": [],
   "source": [
    "mp = Basemap(projection = 'merc',\n",
    "             llcrnrlon= 42.8,\n",
    "             llcrnrlat= -2,\n",
    "             urcrnrlon= 105.37,\n",
    "             urcrnrlat= 38.78,\n",
    "             resolution= 'i')"
   ]
  },
  {
   "cell_type": "code",
   "execution_count": 50,
   "id": "49424b7c",
   "metadata": {},
   "outputs": [],
   "source": [
    "lon,lat = np.meshgrid(lon_data,lat_data)\n",
    "x,y = mp(lon,lat)"
   ]
  },
  {
   "cell_type": "code",
   "execution_count": 51,
   "id": "e9392236",
   "metadata": {},
   "outputs": [
    {
     "data": {
      "image/png": "[encoded data removed]",
      "text/plain": [
       "<Figure size 640x480 with 2 Axes>"
      ]
     },
     "metadata": {},
     "output_type": "display_data"
    }
   ],
   "source": [
    "c_scheme=mp.pcolor(x,y,np.squeeze(tave_data[0,:,:]), cmap ='jet')\n",
    "mp.drawcoastlines()\n",
    "mp.drawstates()\n",
    "mp.drawcounties()\n",
    "cbar = mp.colorbar(c_scheme,location = 'right',pad = '10%')\n",
    "plt.title('Average Temperature on 01-01-1962')\n",
    "plt.show()\n"
   ]
  },
  {
   "cell_type": "code",
   "execution_count": 52,
   "id": "fc747fda",
   "metadata": {},
   "outputs": [
    {
     "ename": "SyntaxError",
     "evalue": "invalid syntax (116892749.py, line 1)",
     "output_type": "error",
     "traceback": [
      "\u001b[1;36m  Cell \u001b[1;32mIn[52], line 1\u001b[1;36m\u001b[0m\n\u001b[1;33m    jt -t monokai -T -N -kl # write in terminal\u001b[0m\n\u001b[1;37m          ^\u001b[0m\n\u001b[1;31mSyntaxError\u001b[0m\u001b[1;31m:\u001b[0m invalid syntax\n"
     ]
    }
   ],
   "source": [
    "jt -t monokai -T -N -kl # write in terminal"
   ]
  },
  {
   "cell_type": "code",
   "execution_count": 53,
   "id": "d44e054c",
   "metadata": {},
   "outputs": [],
   "source": [
    "days = np.arange(0,365)"
   ]
  },
  {
   "cell_type": "code",
   "execution_count": 54,
   "id": "bc9e3f5f",
   "metadata": {},
   "outputs": [
    {
     "data": {
      "text/plain": [
       "<Figure size 640x480 with 0 Axes>"
      ]
     },
     "metadata": {},
     "output_type": "display_data"
    },
    {
     "data": {
      "text/plain": [
       "<Figure size 640x480 with 0 Axes>"
      ]
     },
     "metadata": {},
     "output_type": "display_data"
    },
    {
     "data": {
      "text/plain": [
       "<Figure size 640x480 with 0 Axes>"
      ]
     },
     "metadata": {},
     "output_type": "display_data"
    },
    {
     "data": {
      "text/plain": [
       "<Figure size 640x480 with 0 Axes>"
      ]
     },
     "metadata": {},
     "output_type": "display_data"
    },
    {
     "data": {
      "text/plain": [
       "<Figure size 640x480 with 0 Axes>"
      ]
     },
     "metadata": {},
     "output_type": "display_data"
    },
    {
     "data": {
      "text/plain": [
       "<Figure size 640x480 with 0 Axes>"
      ]
     },
     "metadata": {},
     "output_type": "display_data"
    },
    {
     "data": {
      "text/plain": [
       "<Figure size 640x480 with 0 Axes>"
      ]
     },
     "metadata": {},
     "output_type": "display_data"
    },
    {
     "data": {
      "text/plain": [
       "<Figure size 640x480 with 0 Axes>"
      ]
     },
     "metadata": {},
     "output_type": "display_data"
    },
    {
     "data": {
      "text/plain": [
       "<Figure size 640x480 with 0 Axes>"
      ]
     },
     "metadata": {},
     "output_type": "display_data"
    },
    {
     "data": {
      "text/plain": [
       "<Figure size 640x480 with 0 Axes>"
      ]
     },
     "metadata": {},
     "output_type": "display_data"
    },
    {
     "data": {
      "text/plain": [
       "<Figure size 640x480 with 0 Axes>"
      ]
     },
     "metadata": {},
     "output_type": "display_data"
    },
    {
     "data": {
      "text/plain": [
       "<Figure size 640x480 with 0 Axes>"
      ]
     },
     "metadata": {},
     "output_type": "display_data"
    },
    {
     "data": {
      "text/plain": [
       "<Figure size 640x480 with 0 Axes>"
      ]
     },
     "metadata": {},
     "output_type": "display_data"
    },
    {
     "data": {
      "text/plain": [
       "<Figure size 640x480 with 0 Axes>"
      ]
     },
     "metadata": {},
     "output_type": "display_data"
    },
    {
     "data": {
      "text/plain": [
       "<Figure size 640x480 with 0 Axes>"
      ]
     },
     "metadata": {},
     "output_type": "display_data"
    },
    {
     "data": {
      "text/plain": [
       "<Figure size 640x480 with 0 Axes>"
      ]
     },
     "metadata": {},
     "output_type": "display_data"
    },
    {
     "data": {
      "text/plain": [
       "<Figure size 640x480 with 0 Axes>"
      ]
     },
     "metadata": {},
     "output_type": "display_data"
    },
    {
     "data": {
      "text/plain": [
       "<Figure size 640x480 with 0 Axes>"
      ]
     },
     "metadata": {},
     "output_type": "display_data"
    },
    {
     "data": {
      "text/plain": [
       "<Figure size 640x480 with 0 Axes>"
      ]
     },
     "metadata": {},
     "output_type": "display_data"
    },
    {
     "data": {
      "text/plain": [
       "<Figure size 640x480 with 0 Axes>"
      ]
     },
     "metadata": {},
     "output_type": "display_data"
    },
    {
     "data": {
      "text/plain": [
       "<Figure size 640x480 with 0 Axes>"
      ]
     },
     "metadata": {},
     "output_type": "display_data"
    },
    {
     "data": {
      "text/plain": [
       "<Figure size 640x480 with 0 Axes>"
      ]
     },
     "metadata": {},
     "output_type": "display_data"
    },
    {
     "data": {
      "text/plain": [
       "<Figure size 640x480 with 0 Axes>"
      ]
     },
     "metadata": {},
     "output_type": "display_data"
    },
    {
     "data": {
      "text/plain": [
       "<Figure size 640x480 with 0 Axes>"
      ]
     },
     "metadata": {},
     "output_type": "display_data"
    },
    {
     "data": {
      "text/plain": [
       "<Figure size 640x480 with 0 Axes>"
      ]
     },
     "metadata": {},
     "output_type": "display_data"
    },
    {
     "data": {
      "text/plain": [
       "<Figure size 640x480 with 0 Axes>"
      ]
     },
     "metadata": {},
     "output_type": "display_data"
    },
    {
     "data": {
      "text/plain": [
       "<Figure size 640x480 with 0 Axes>"
      ]
     },
     "metadata": {},
     "output_type": "display_data"
    },
    {
     "data": {
      "text/plain": [
       "<Figure size 640x480 with 0 Axes>"
      ]
     },
     "metadata": {},
     "output_type": "display_data"
    },
    {
     "data": {
      "text/plain": [
       "<Figure size 640x480 with 0 Axes>"
      ]
     },
     "metadata": {},
     "output_type": "display_data"
    },
    {
     "data": {
      "text/plain": [
       "<Figure size 640x480 with 0 Axes>"
      ]
     },
     "metadata": {},
     "output_type": "display_data"
    },
    {
     "data": {
      "text/plain": [
       "<Figure size 640x480 with 0 Axes>"
      ]
     },
     "metadata": {},
     "output_type": "display_data"
    },
    {
     "data": {
      "text/plain": [
       "<Figure size 640x480 with 0 Axes>"
      ]
     },
     "metadata": {},
     "output_type": "display_data"
    },
    {
     "data": {
      "text/plain": [
       "<Figure size 640x480 with 0 Axes>"
      ]
     },
     "metadata": {},
     "output_type": "display_data"
    },
    {
     "data": {
      "text/plain": [
       "<Figure size 640x480 with 0 Axes>"
      ]
     },
     "metadata": {},
     "output_type": "display_data"
    },
    {
     "data": {
      "text/plain": [
       "<Figure size 640x480 with 0 Axes>"
      ]
     },
     "metadata": {},
     "output_type": "display_data"
    },
    {
     "data": {
      "text/plain": [
       "<Figure size 640x480 with 0 Axes>"
      ]
     },
     "metadata": {},
     "output_type": "display_data"
    },
    {
     "data": {
      "text/plain": [
       "<Figure size 640x480 with 0 Axes>"
      ]
     },
     "metadata": {},
     "output_type": "display_data"
    },
    {
     "data": {
      "text/plain": [
       "<Figure size 640x480 with 0 Axes>"
      ]
     },
     "metadata": {},
     "output_type": "display_data"
    },
    {
     "data": {
      "text/plain": [
       "<Figure size 640x480 with 0 Axes>"
      ]
     },
     "metadata": {},
     "output_type": "display_data"
    },
    {
     "data": {
      "text/plain": [
       "<Figure size 640x480 with 0 Axes>"
      ]
     },
     "metadata": {},
     "output_type": "display_data"
    },
    {
     "data": {
      "text/plain": [
       "<Figure size 640x480 with 0 Axes>"
      ]
     },
     "metadata": {},
     "output_type": "display_data"
    },
    {
     "data": {
      "text/plain": [
       "<Figure size 640x480 with 0 Axes>"
      ]
     },
     "metadata": {},
     "output_type": "display_data"
    },
    {
     "data": {
      "text/plain": [
       "<Figure size 640x480 with 0 Axes>"
      ]
     },
     "metadata": {},
     "output_type": "display_data"
    },
    {
     "data": {
      "text/plain": [
       "<Figure size 640x480 with 0 Axes>"
      ]
     },
     "metadata": {},
     "output_type": "display_data"
    },
    {
     "data": {
      "text/plain": [
       "<Figure size 640x480 with 0 Axes>"
      ]
     },
     "metadata": {},
     "output_type": "display_data"
    },
    {
     "data": {
      "text/plain": [
       "<Figure size 640x480 with 0 Axes>"
      ]
     },
     "metadata": {},
     "output_type": "display_data"
    },
    {
     "data": {
      "text/plain": [
       "<Figure size 640x480 with 0 Axes>"
      ]
     },
     "metadata": {},
     "output_type": "display_data"
    },
    {
     "data": {
      "text/plain": [
       "<Figure size 640x480 with 0 Axes>"
      ]
     },
     "metadata": {},
     "output_type": "display_data"
    },
    {
     "data": {
      "text/plain": [
       "<Figure size 640x480 with 0 Axes>"
      ]
     },
     "metadata": {},
     "output_type": "display_data"
    },
    {
     "data": {
      "text/plain": [
       "<Figure size 640x480 with 0 Axes>"
      ]
     },
     "metadata": {},
     "output_type": "display_data"
    },
    {
     "data": {
      "text/plain": [
       "<Figure size 640x480 with 0 Axes>"
      ]
     },
     "metadata": {},
     "output_type": "display_data"
    },
    {
     "data": {
      "text/plain": [
       "<Figure size 640x480 with 0 Axes>"
      ]
     },
     "metadata": {},
     "output_type": "display_data"
    },
    {
     "data": {
      "text/plain": [
       "<Figure size 640x480 with 0 Axes>"
      ]
     },
     "metadata": {},
     "output_type": "display_data"
    },
    {
     "data": {
      "text/plain": [
       "<Figure size 640x480 with 0 Axes>"
      ]
     },
     "metadata": {},
     "output_type": "display_data"
    },
    {
     "data": {
      "text/plain": [
       "<Figure size 640x480 with 0 Axes>"
      ]
     },
     "metadata": {},
     "output_type": "display_data"
    },
    {
     "data": {
      "text/plain": [
       "<Figure size 640x480 with 0 Axes>"
      ]
     },
     "metadata": {},
     "output_type": "display_data"
    },
    {
     "data": {
      "text/plain": [
       "<Figure size 640x480 with 0 Axes>"
      ]
     },
     "metadata": {},
     "output_type": "display_data"
    },
    {
     "data": {
      "text/plain": [
       "<Figure size 640x480 with 0 Axes>"
      ]
     },
     "metadata": {},
     "output_type": "display_data"
    },
    {
     "data": {
      "text/plain": [
       "<Figure size 640x480 with 0 Axes>"
      ]
     },
     "metadata": {},
     "output_type": "display_data"
    },
    {
     "data": {
      "text/plain": [
       "<Figure size 640x480 with 0 Axes>"
      ]
     },
     "metadata": {},
     "output_type": "display_data"
    },
    {
     "data": {
      "text/plain": [
       "<Figure size 640x480 with 0 Axes>"
      ]
     },
     "metadata": {},
     "output_type": "display_data"
    },
    {
     "data": {
      "text/plain": [
       "<Figure size 640x480 with 0 Axes>"
      ]
     },
     "metadata": {},
     "output_type": "display_data"
    },
    {
     "data": {
      "text/plain": [
       "<Figure size 640x480 with 0 Axes>"
      ]
     },
     "metadata": {},
     "output_type": "display_data"
    },
    {
     "data": {
      "text/plain": [
       "<Figure size 640x480 with 0 Axes>"
      ]
     },
     "metadata": {},
     "output_type": "display_data"
    },
    {
     "data": {
      "text/plain": [
       "<Figure size 640x480 with 0 Axes>"
      ]
     },
     "metadata": {},
     "output_type": "display_data"
    },
    {
     "data": {
      "text/plain": [
       "<Figure size 640x480 with 0 Axes>"
      ]
     },
     "metadata": {},
     "output_type": "display_data"
    },
    {
     "data": {
      "text/plain": [
       "<Figure size 640x480 with 0 Axes>"
      ]
     },
     "metadata": {},
     "output_type": "display_data"
    },
    {
     "data": {
      "text/plain": [
       "<Figure size 640x480 with 0 Axes>"
      ]
     },
     "metadata": {},
     "output_type": "display_data"
    },
    {
     "data": {
      "text/plain": [
       "<Figure size 640x480 with 0 Axes>"
      ]
     },
     "metadata": {},
     "output_type": "display_data"
    },
    {
     "data": {
      "text/plain": [
       "<Figure size 640x480 with 0 Axes>"
      ]
     },
     "metadata": {},
     "output_type": "display_data"
    },
    {
     "data": {
      "text/plain": [
       "<Figure size 640x480 with 0 Axes>"
      ]
     },
     "metadata": {},
     "output_type": "display_data"
    },
    {
     "data": {
      "text/plain": [
       "<Figure size 640x480 with 0 Axes>"
      ]
     },
     "metadata": {},
     "output_type": "display_data"
    },
    {
     "data": {
      "text/plain": [
       "<Figure size 640x480 with 0 Axes>"
      ]
     },
     "metadata": {},
     "output_type": "display_data"
    },
    {
     "data": {
      "text/plain": [
       "<Figure size 640x480 with 0 Axes>"
      ]
     },
     "metadata": {},
     "output_type": "display_data"
    },
    {
     "data": {
      "text/plain": [
       "<Figure size 640x480 with 0 Axes>"
      ]
     },
     "metadata": {},
     "output_type": "display_data"
    },
    {
     "data": {
      "text/plain": [
       "<Figure size 640x480 with 0 Axes>"
      ]
     },
     "metadata": {},
     "output_type": "display_data"
    },
    {
     "data": {
      "text/plain": [
       "<Figure size 640x480 with 0 Axes>"
      ]
     },
     "metadata": {},
     "output_type": "display_data"
    },
    {
     "data": {
      "text/plain": [
       "<Figure size 640x480 with 0 Axes>"
      ]
     },
     "metadata": {},
     "output_type": "display_data"
    },
    {
     "data": {
      "text/plain": [
       "<Figure size 640x480 with 0 Axes>"
      ]
     },
     "metadata": {},
     "output_type": "display_data"
    },
    {
     "data": {
      "text/plain": [
       "<Figure size 640x480 with 0 Axes>"
      ]
     },
     "metadata": {},
     "output_type": "display_data"
    },
    {
     "data": {
      "text/plain": [
       "<Figure size 640x480 with 0 Axes>"
      ]
     },
     "metadata": {},
     "output_type": "display_data"
    },
    {
     "data": {
      "text/plain": [
       "<Figure size 640x480 with 0 Axes>"
      ]
     },
     "metadata": {},
     "output_type": "display_data"
    },
    {
     "data": {
      "text/plain": [
       "<Figure size 640x480 with 0 Axes>"
      ]
     },
     "metadata": {},
     "output_type": "display_data"
    },
    {
     "data": {
      "text/plain": [
       "<Figure size 640x480 with 0 Axes>"
      ]
     },
     "metadata": {},
     "output_type": "display_data"
    },
    {
     "data": {
      "text/plain": [
       "<Figure size 640x480 with 0 Axes>"
      ]
     },
     "metadata": {},
     "output_type": "display_data"
    },
    {
     "data": {
      "text/plain": [
       "<Figure size 640x480 with 0 Axes>"
      ]
     },
     "metadata": {},
     "output_type": "display_data"
    },
    {
     "data": {
      "text/plain": [
       "<Figure size 640x480 with 0 Axes>"
      ]
     },
     "metadata": {},
     "output_type": "display_data"
    },
    {
     "data": {
      "text/plain": [
       "<Figure size 640x480 with 0 Axes>"
      ]
     },
     "metadata": {},
     "output_type": "display_data"
    },
    {
     "data": {
      "text/plain": [
       "<Figure size 640x480 with 0 Axes>"
      ]
     },
     "metadata": {},
     "output_type": "display_data"
    },
    {
     "data": {
      "text/plain": [
       "<Figure size 640x480 with 0 Axes>"
      ]
     },
     "metadata": {},
     "output_type": "display_data"
    },
    {
     "data": {
      "text/plain": [
       "<Figure size 640x480 with 0 Axes>"
      ]
     },
     "metadata": {},
     "output_type": "display_data"
    },
    {
     "data": {
      "text/plain": [
       "<Figure size 640x480 with 0 Axes>"
      ]
     },
     "metadata": {},
     "output_type": "display_data"
    },
    {
     "data": {
      "text/plain": [
       "<Figure size 640x480 with 0 Axes>"
      ]
     },
     "metadata": {},
     "output_type": "display_data"
    },
    {
     "data": {
      "text/plain": [
       "<Figure size 640x480 with 0 Axes>"
      ]
     },
     "metadata": {},
     "output_type": "display_data"
    },
    {
     "data": {
      "text/plain": [
       "<Figure size 640x480 with 0 Axes>"
      ]
     },
     "metadata": {},
     "output_type": "display_data"
    },
    {
     "data": {
      "text/plain": [
       "<Figure size 640x480 with 0 Axes>"
      ]
     },
     "metadata": {},
     "output_type": "display_data"
    },
    {
     "data": {
      "text/plain": [
       "<Figure size 640x480 with 0 Axes>"
      ]
     },
     "metadata": {},
     "output_type": "display_data"
    },
    {
     "data": {
      "text/plain": [
       "<Figure size 640x480 with 0 Axes>"
      ]
     },
     "metadata": {},
     "output_type": "display_data"
    },
    {
     "data": {
      "text/plain": [
       "<Figure size 640x480 with 0 Axes>"
      ]
     },
     "metadata": {},
     "output_type": "display_data"
    },
    {
     "data": {
      "text/plain": [
       "<Figure size 640x480 with 0 Axes>"
      ]
     },
     "metadata": {},
     "output_type": "display_data"
    },
    {
     "data": {
      "text/plain": [
       "<Figure size 640x480 with 0 Axes>"
      ]
     },
     "metadata": {},
     "output_type": "display_data"
    },
    {
     "data": {
      "text/plain": [
       "<Figure size 640x480 with 0 Axes>"
      ]
     },
     "metadata": {},
     "output_type": "display_data"
    },
    {
     "data": {
      "text/plain": [
       "<Figure size 640x480 with 0 Axes>"
      ]
     },
     "metadata": {},
     "output_type": "display_data"
    },
    {
     "data": {
      "text/plain": [
       "<Figure size 640x480 with 0 Axes>"
      ]
     },
     "metadata": {},
     "output_type": "display_data"
    },
    {
     "data": {
      "text/plain": [
       "<Figure size 640x480 with 0 Axes>"
      ]
     },
     "metadata": {},
     "output_type": "display_data"
    },
    {
     "data": {
      "text/plain": [
       "<Figure size 640x480 with 0 Axes>"
      ]
     },
     "metadata": {},
     "output_type": "display_data"
    },
    {
     "data": {
      "text/plain": [
       "<Figure size 640x480 with 0 Axes>"
      ]
     },
     "metadata": {},
     "output_type": "display_data"
    },
    {
     "data": {
      "text/plain": [
       "<Figure size 640x480 with 0 Axes>"
      ]
     },
     "metadata": {},
     "output_type": "display_data"
    },
    {
     "data": {
      "text/plain": [
       "<Figure size 640x480 with 0 Axes>"
      ]
     },
     "metadata": {},
     "output_type": "display_data"
    },
    {
     "data": {
      "text/plain": [
       "<Figure size 640x480 with 0 Axes>"
      ]
     },
     "metadata": {},
     "output_type": "display_data"
    },
    {
     "data": {
      "text/plain": [
       "<Figure size 640x480 with 0 Axes>"
      ]
     },
     "metadata": {},
     "output_type": "display_data"
    },
    {
     "data": {
      "text/plain": [
       "<Figure size 640x480 with 0 Axes>"
      ]
     },
     "metadata": {},
     "output_type": "display_data"
    },
    {
     "data": {
      "text/plain": [
       "<Figure size 640x480 with 0 Axes>"
      ]
     },
     "metadata": {},
     "output_type": "display_data"
    },
    {
     "data": {
      "text/plain": [
       "<Figure size 640x480 with 0 Axes>"
      ]
     },
     "metadata": {},
     "output_type": "display_data"
    },
    {
     "data": {
      "text/plain": [
       "<Figure size 640x480 with 0 Axes>"
      ]
     },
     "metadata": {},
     "output_type": "display_data"
    },
    {
     "data": {
      "text/plain": [
       "<Figure size 640x480 with 0 Axes>"
      ]
     },
     "metadata": {},
     "output_type": "display_data"
    },
    {
     "data": {
      "text/plain": [
       "<Figure size 640x480 with 0 Axes>"
      ]
     },
     "metadata": {},
     "output_type": "display_data"
    },
    {
     "data": {
      "text/plain": [
       "<Figure size 640x480 with 0 Axes>"
      ]
     },
     "metadata": {},
     "output_type": "display_data"
    },
    {
     "data": {
      "text/plain": [
       "<Figure size 640x480 with 0 Axes>"
      ]
     },
     "metadata": {},
     "output_type": "display_data"
    },
    {
     "data": {
      "text/plain": [
       "<Figure size 640x480 with 0 Axes>"
      ]
     },
     "metadata": {},
     "output_type": "display_data"
    },
    {
     "data": {
      "text/plain": [
       "<Figure size 640x480 with 0 Axes>"
      ]
     },
     "metadata": {},
     "output_type": "display_data"
    },
    {
     "data": {
      "text/plain": [
       "<Figure size 640x480 with 0 Axes>"
      ]
     },
     "metadata": {},
     "output_type": "display_data"
    },
    {
     "data": {
      "text/plain": [
       "<Figure size 640x480 with 0 Axes>"
      ]
     },
     "metadata": {},
     "output_type": "display_data"
    },
    {
     "data": {
      "text/plain": [
       "<Figure size 640x480 with 0 Axes>"
      ]
     },
     "metadata": {},
     "output_type": "display_data"
    },
    {
     "data": {
      "text/plain": [
       "<Figure size 640x480 with 0 Axes>"
      ]
     },
     "metadata": {},
     "output_type": "display_data"
    },
    {
     "data": {
      "text/plain": [
       "<Figure size 640x480 with 0 Axes>"
      ]
     },
     "metadata": {},
     "output_type": "display_data"
    },
    {
     "data": {
      "text/plain": [
       "<Figure size 640x480 with 0 Axes>"
      ]
     },
     "metadata": {},
     "output_type": "display_data"
    },
    {
     "data": {
      "text/plain": [
       "<Figure size 640x480 with 0 Axes>"
      ]
     },
     "metadata": {},
     "output_type": "display_data"
    },
    {
     "data": {
      "text/plain": [
       "<Figure size 640x480 with 0 Axes>"
      ]
     },
     "metadata": {},
     "output_type": "display_data"
    },
    {
     "data": {
      "text/plain": [
       "<Figure size 640x480 with 0 Axes>"
      ]
     },
     "metadata": {},
     "output_type": "display_data"
    },
    {
     "data": {
      "text/plain": [
       "<Figure size 640x480 with 0 Axes>"
      ]
     },
     "metadata": {},
     "output_type": "display_data"
    },
    {
     "data": {
      "text/plain": [
       "<Figure size 640x480 with 0 Axes>"
      ]
     },
     "metadata": {},
     "output_type": "display_data"
    },
    {
     "data": {
      "text/plain": [
       "<Figure size 640x480 with 0 Axes>"
      ]
     },
     "metadata": {},
     "output_type": "display_data"
    },
    {
     "data": {
      "text/plain": [
       "<Figure size 640x480 with 0 Axes>"
      ]
     },
     "metadata": {},
     "output_type": "display_data"
    },
    {
     "data": {
      "text/plain": [
       "<Figure size 640x480 with 0 Axes>"
      ]
     },
     "metadata": {},
     "output_type": "display_data"
    },
    {
     "data": {
      "text/plain": [
       "<Figure size 640x480 with 0 Axes>"
      ]
     },
     "metadata": {},
     "output_type": "display_data"
    },
    {
     "data": {
      "text/plain": [
       "<Figure size 640x480 with 0 Axes>"
      ]
     },
     "metadata": {},
     "output_type": "display_data"
    },
    {
     "data": {
      "text/plain": [
       "<Figure size 640x480 with 0 Axes>"
      ]
     },
     "metadata": {},
     "output_type": "display_data"
    },
    {
     "data": {
      "text/plain": [
       "<Figure size 640x480 with 0 Axes>"
      ]
     },
     "metadata": {},
     "output_type": "display_data"
    },
    {
     "data": {
      "text/plain": [
       "<Figure size 640x480 with 0 Axes>"
      ]
     },
     "metadata": {},
     "output_type": "display_data"
    },
    {
     "data": {
      "text/plain": [
       "<Figure size 640x480 with 0 Axes>"
      ]
     },
     "metadata": {},
     "output_type": "display_data"
    },
    {
     "data": {
      "text/plain": [
       "<Figure size 640x480 with 0 Axes>"
      ]
     },
     "metadata": {},
     "output_type": "display_data"
    },
    {
     "data": {
      "text/plain": [
       "<Figure size 640x480 with 0 Axes>"
      ]
     },
     "metadata": {},
     "output_type": "display_data"
    },
    {
     "data": {
      "text/plain": [
       "<Figure size 640x480 with 0 Axes>"
      ]
     },
     "metadata": {},
     "output_type": "display_data"
    },
    {
     "data": {
      "text/plain": [
       "<Figure size 640x480 with 0 Axes>"
      ]
     },
     "metadata": {},
     "output_type": "display_data"
    },
    {
     "data": {
      "text/plain": [
       "<Figure size 640x480 with 0 Axes>"
      ]
     },
     "metadata": {},
     "output_type": "display_data"
    },
    {
     "data": {
      "text/plain": [
       "<Figure size 640x480 with 0 Axes>"
      ]
     },
     "metadata": {},
     "output_type": "display_data"
    },
    {
     "data": {
      "text/plain": [
       "<Figure size 640x480 with 0 Axes>"
      ]
     },
     "metadata": {},
     "output_type": "display_data"
    },
    {
     "data": {
      "text/plain": [
       "<Figure size 640x480 with 0 Axes>"
      ]
     },
     "metadata": {},
     "output_type": "display_data"
    },
    {
     "data": {
      "text/plain": [
       "<Figure size 640x480 with 0 Axes>"
      ]
     },
     "metadata": {},
     "output_type": "display_data"
    },
    {
     "data": {
      "text/plain": [
       "<Figure size 640x480 with 0 Axes>"
      ]
     },
     "metadata": {},
     "output_type": "display_data"
    },
    {
     "data": {
      "text/plain": [
       "<Figure size 640x480 with 0 Axes>"
      ]
     },
     "metadata": {},
     "output_type": "display_data"
    },
    {
     "data": {
      "text/plain": [
       "<Figure size 640x480 with 0 Axes>"
      ]
     },
     "metadata": {},
     "output_type": "display_data"
    },
    {
     "data": {
      "text/plain": [
       "<Figure size 640x480 with 0 Axes>"
      ]
     },
     "metadata": {},
     "output_type": "display_data"
    },
    {
     "data": {
      "text/plain": [
       "<Figure size 640x480 with 0 Axes>"
      ]
     },
     "metadata": {},
     "output_type": "display_data"
    },
    {
     "data": {
      "text/plain": [
       "<Figure size 640x480 with 0 Axes>"
      ]
     },
     "metadata": {},
     "output_type": "display_data"
    },
    {
     "data": {
      "text/plain": [
       "<Figure size 640x480 with 0 Axes>"
      ]
     },
     "metadata": {},
     "output_type": "display_data"
    },
    {
     "data": {
      "text/plain": [
       "<Figure size 640x480 with 0 Axes>"
      ]
     },
     "metadata": {},
     "output_type": "display_data"
    },
    {
     "data": {
      "text/plain": [
       "<Figure size 640x480 with 0 Axes>"
      ]
     },
     "metadata": {},
     "output_type": "display_data"
    },
    {
     "data": {
      "text/plain": [
       "<Figure size 640x480 with 0 Axes>"
      ]
     },
     "metadata": {},
     "output_type": "display_data"
    },
    {
     "data": {
      "text/plain": [
       "<Figure size 640x480 with 0 Axes>"
      ]
     },
     "metadata": {},
     "output_type": "display_data"
    },
    {
     "data": {
      "text/plain": [
       "<Figure size 640x480 with 0 Axes>"
      ]
     },
     "metadata": {},
     "output_type": "display_data"
    },
    {
     "data": {
      "text/plain": [
       "<Figure size 640x480 with 0 Axes>"
      ]
     },
     "metadata": {},
     "output_type": "display_data"
    },
    {
     "data": {
      "text/plain": [
       "<Figure size 640x480 with 0 Axes>"
      ]
     },
     "metadata": {},
     "output_type": "display_data"
    },
    {
     "data": {
      "text/plain": [
       "<Figure size 640x480 with 0 Axes>"
      ]
     },
     "metadata": {},
     "output_type": "display_data"
    },
    {
     "data": {
      "text/plain": [
       "<Figure size 640x480 with 0 Axes>"
      ]
     },
     "metadata": {},
     "output_type": "display_data"
    },
    {
     "data": {
      "text/plain": [
       "<Figure size 640x480 with 0 Axes>"
      ]
     },
     "metadata": {},
     "output_type": "display_data"
    },
    {
     "data": {
      "text/plain": [
       "<Figure size 640x480 with 0 Axes>"
      ]
     },
     "metadata": {},
     "output_type": "display_data"
    },
    {
     "data": {
      "text/plain": [
       "<Figure size 640x480 with 0 Axes>"
      ]
     },
     "metadata": {},
     "output_type": "display_data"
    },
    {
     "data": {
      "text/plain": [
       "<Figure size 640x480 with 0 Axes>"
      ]
     },
     "metadata": {},
     "output_type": "display_data"
    },
    {
     "data": {
      "text/plain": [
       "<Figure size 640x480 with 0 Axes>"
      ]
     },
     "metadata": {},
     "output_type": "display_data"
    },
    {
     "data": {
      "text/plain": [
       "<Figure size 640x480 with 0 Axes>"
      ]
     },
     "metadata": {},
     "output_type": "display_data"
    },
    {
     "data": {
      "text/plain": [
       "<Figure size 640x480 with 0 Axes>"
      ]
     },
     "metadata": {},
     "output_type": "display_data"
    },
    {
     "data": {
      "text/plain": [
       "<Figure size 640x480 with 0 Axes>"
      ]
     },
     "metadata": {},
     "output_type": "display_data"
    },
    {
     "data": {
      "text/plain": [
       "<Figure size 640x480 with 0 Axes>"
      ]
     },
     "metadata": {},
     "output_type": "display_data"
    },
    {
     "data": {
      "text/plain": [
       "<Figure size 640x480 with 0 Axes>"
      ]
     },
     "metadata": {},
     "output_type": "display_data"
    },
    {
     "data": {
      "text/plain": [
       "<Figure size 640x480 with 0 Axes>"
      ]
     },
     "metadata": {},
     "output_type": "display_data"
    },
    {
     "data": {
      "text/plain": [
       "<Figure size 640x480 with 0 Axes>"
      ]
     },
     "metadata": {},
     "output_type": "display_data"
    },
    {
     "data": {
      "text/plain": [
       "<Figure size 640x480 with 0 Axes>"
      ]
     },
     "metadata": {},
     "output_type": "display_data"
    },
    {
     "data": {
      "text/plain": [
       "<Figure size 640x480 with 0 Axes>"
      ]
     },
     "metadata": {},
     "output_type": "display_data"
    },
    {
     "data": {
      "text/plain": [
       "<Figure size 640x480 with 0 Axes>"
      ]
     },
     "metadata": {},
     "output_type": "display_data"
    },
    {
     "data": {
      "text/plain": [
       "<Figure size 640x480 with 0 Axes>"
      ]
     },
     "metadata": {},
     "output_type": "display_data"
    },
    {
     "data": {
      "text/plain": [
       "<Figure size 640x480 with 0 Axes>"
      ]
     },
     "metadata": {},
     "output_type": "display_data"
    },
    {
     "data": {
      "text/plain": [
       "<Figure size 640x480 with 0 Axes>"
      ]
     },
     "metadata": {},
     "output_type": "display_data"
    },
    {
     "data": {
      "text/plain": [
       "<Figure size 640x480 with 0 Axes>"
      ]
     },
     "metadata": {},
     "output_type": "display_data"
    },
    {
     "data": {
      "text/plain": [
       "<Figure size 640x480 with 0 Axes>"
      ]
     },
     "metadata": {},
     "output_type": "display_data"
    },
    {
     "data": {
      "text/plain": [
       "<Figure size 640x480 with 0 Axes>"
      ]
     },
     "metadata": {},
     "output_type": "display_data"
    },
    {
     "data": {
      "text/plain": [
       "<Figure size 640x480 with 0 Axes>"
      ]
     },
     "metadata": {},
     "output_type": "display_data"
    },
    {
     "data": {
      "text/plain": [
       "<Figure size 640x480 with 0 Axes>"
      ]
     },
     "metadata": {},
     "output_type": "display_data"
    },
    {
     "data": {
      "text/plain": [
       "<Figure size 640x480 with 0 Axes>"
      ]
     },
     "metadata": {},
     "output_type": "display_data"
    },
    {
     "data": {
      "text/plain": [
       "<Figure size 640x480 with 0 Axes>"
      ]
     },
     "metadata": {},
     "output_type": "display_data"
    },
    {
     "data": {
      "text/plain": [
       "<Figure size 640x480 with 0 Axes>"
      ]
     },
     "metadata": {},
     "output_type": "display_data"
    },
    {
     "data": {
      "text/plain": [
       "<Figure size 640x480 with 0 Axes>"
      ]
     },
     "metadata": {},
     "output_type": "display_data"
    },
    {
     "data": {
      "text/plain": [
       "<Figure size 640x480 with 0 Axes>"
      ]
     },
     "metadata": {},
     "output_type": "display_data"
    },
    {
     "data": {
      "text/plain": [
       "<Figure size 640x480 with 0 Axes>"
      ]
     },
     "metadata": {},
     "output_type": "display_data"
    },
    {
     "data": {
      "text/plain": [
       "<Figure size 640x480 with 0 Axes>"
      ]
     },
     "metadata": {},
     "output_type": "display_data"
    },
    {
     "data": {
      "text/plain": [
       "<Figure size 640x480 with 0 Axes>"
      ]
     },
     "metadata": {},
     "output_type": "display_data"
    },
    {
     "data": {
      "text/plain": [
       "<Figure size 640x480 with 0 Axes>"
      ]
     },
     "metadata": {},
     "output_type": "display_data"
    },
    {
     "data": {
      "text/plain": [
       "<Figure size 640x480 with 0 Axes>"
      ]
     },
     "metadata": {},
     "output_type": "display_data"
    },
    {
     "data": {
      "text/plain": [
       "<Figure size 640x480 with 0 Axes>"
      ]
     },
     "metadata": {},
     "output_type": "display_data"
    },
    {
     "data": {
      "text/plain": [
       "<Figure size 640x480 with 0 Axes>"
      ]
     },
     "metadata": {},
     "output_type": "display_data"
    },
    {
     "data": {
      "text/plain": [
       "<Figure size 640x480 with 0 Axes>"
      ]
     },
     "metadata": {},
     "output_type": "display_data"
    },
    {
     "data": {
      "text/plain": [
       "<Figure size 640x480 with 0 Axes>"
      ]
     },
     "metadata": {},
     "output_type": "display_data"
    },
    {
     "data": {
      "text/plain": [
       "<Figure size 640x480 with 0 Axes>"
      ]
     },
     "metadata": {},
     "output_type": "display_data"
    },
    {
     "data": {
      "text/plain": [
       "<Figure size 640x480 with 0 Axes>"
      ]
     },
     "metadata": {},
     "output_type": "display_data"
    },
    {
     "data": {
      "text/plain": [
       "<Figure size 640x480 with 0 Axes>"
      ]
     },
     "metadata": {},
     "output_type": "display_data"
    },
    {
     "data": {
      "text/plain": [
       "<Figure size 640x480 with 0 Axes>"
      ]
     },
     "metadata": {},
     "output_type": "display_data"
    },
    {
     "data": {
      "text/plain": [
       "<Figure size 640x480 with 0 Axes>"
      ]
     },
     "metadata": {},
     "output_type": "display_data"
    },
    {
     "data": {
      "text/plain": [
       "<Figure size 640x480 with 0 Axes>"
      ]
     },
     "metadata": {},
     "output_type": "display_data"
    },
    {
     "data": {
      "text/plain": [
       "<Figure size 640x480 with 0 Axes>"
      ]
     },
     "metadata": {},
     "output_type": "display_data"
    },
    {
     "data": {
      "text/plain": [
       "<Figure size 640x480 with 0 Axes>"
      ]
     },
     "metadata": {},
     "output_type": "display_data"
    },
    {
     "data": {
      "text/plain": [
       "<Figure size 640x480 with 0 Axes>"
      ]
     },
     "metadata": {},
     "output_type": "display_data"
    },
    {
     "data": {
      "text/plain": [
       "<Figure size 640x480 with 0 Axes>"
      ]
     },
     "metadata": {},
     "output_type": "display_data"
    },
    {
     "data": {
      "text/plain": [
       "<Figure size 640x480 with 0 Axes>"
      ]
     },
     "metadata": {},
     "output_type": "display_data"
    },
    {
     "data": {
      "text/plain": [
       "<Figure size 640x480 with 0 Axes>"
      ]
     },
     "metadata": {},
     "output_type": "display_data"
    },
    {
     "data": {
      "text/plain": [
       "<Figure size 640x480 with 0 Axes>"
      ]
     },
     "metadata": {},
     "output_type": "display_data"
    },
    {
     "data": {
      "text/plain": [
       "<Figure size 640x480 with 0 Axes>"
      ]
     },
     "metadata": {},
     "output_type": "display_data"
    },
    {
     "data": {
      "text/plain": [
       "<Figure size 640x480 with 0 Axes>"
      ]
     },
     "metadata": {},
     "output_type": "display_data"
    },
    {
     "data": {
      "text/plain": [
       "<Figure size 640x480 with 0 Axes>"
      ]
     },
     "metadata": {},
     "output_type": "display_data"
    },
    {
     "data": {
      "text/plain": [
       "<Figure size 640x480 with 0 Axes>"
      ]
     },
     "metadata": {},
     "output_type": "display_data"
    },
    {
     "data": {
      "text/plain": [
       "<Figure size 640x480 with 0 Axes>"
      ]
     },
     "metadata": {},
     "output_type": "display_data"
    },
    {
     "data": {
      "text/plain": [
       "<Figure size 640x480 with 0 Axes>"
      ]
     },
     "metadata": {},
     "output_type": "display_data"
    },
    {
     "data": {
      "text/plain": [
       "<Figure size 640x480 with 0 Axes>"
      ]
     },
     "metadata": {},
     "output_type": "display_data"
    },
    {
     "data": {
      "text/plain": [
       "<Figure size 640x480 with 0 Axes>"
      ]
     },
     "metadata": {},
     "output_type": "display_data"
    },
    {
     "data": {
      "text/plain": [
       "<Figure size 640x480 with 0 Axes>"
      ]
     },
     "metadata": {},
     "output_type": "display_data"
    },
    {
     "data": {
      "text/plain": [
       "<Figure size 640x480 with 0 Axes>"
      ]
     },
     "metadata": {},
     "output_type": "display_data"
    },
    {
     "data": {
      "text/plain": [
       "<Figure size 640x480 with 0 Axes>"
      ]
     },
     "metadata": {},
     "output_type": "display_data"
    },
    {
     "data": {
      "text/plain": [
       "<Figure size 640x480 with 0 Axes>"
      ]
     },
     "metadata": {},
     "output_type": "display_data"
    },
    {
     "data": {
      "text/plain": [
       "<Figure size 640x480 with 0 Axes>"
      ]
     },
     "metadata": {},
     "output_type": "display_data"
    },
    {
     "data": {
      "text/plain": [
       "<Figure size 640x480 with 0 Axes>"
      ]
     },
     "metadata": {},
     "output_type": "display_data"
    },
    {
     "data": {
      "text/plain": [
       "<Figure size 640x480 with 0 Axes>"
      ]
     },
     "metadata": {},
     "output_type": "display_data"
    },
    {
     "data": {
      "text/plain": [
       "<Figure size 640x480 with 0 Axes>"
      ]
     },
     "metadata": {},
     "output_type": "display_data"
    },
    {
     "data": {
      "text/plain": [
       "<Figure size 640x480 with 0 Axes>"
      ]
     },
     "metadata": {},
     "output_type": "display_data"
    },
    {
     "data": {
      "text/plain": [
       "<Figure size 640x480 with 0 Axes>"
      ]
     },
     "metadata": {},
     "output_type": "display_data"
    },
    {
     "data": {
      "text/plain": [
       "<Figure size 640x480 with 0 Axes>"
      ]
     },
     "metadata": {},
     "output_type": "display_data"
    },
    {
     "data": {
      "text/plain": [
       "<Figure size 640x480 with 0 Axes>"
      ]
     },
     "metadata": {},
     "output_type": "display_data"
    },
    {
     "data": {
      "text/plain": [
       "<Figure size 640x480 with 0 Axes>"
      ]
     },
     "metadata": {},
     "output_type": "display_data"
    },
    {
     "data": {
      "text/plain": [
       "<Figure size 640x480 with 0 Axes>"
      ]
     },
     "metadata": {},
     "output_type": "display_data"
    },
    {
     "data": {
      "text/plain": [
       "<Figure size 640x480 with 0 Axes>"
      ]
     },
     "metadata": {},
     "output_type": "display_data"
    },
    {
     "data": {
      "text/plain": [
       "<Figure size 640x480 with 0 Axes>"
      ]
     },
     "metadata": {},
     "output_type": "display_data"
    },
    {
     "data": {
      "text/plain": [
       "<Figure size 640x480 with 0 Axes>"
      ]
     },
     "metadata": {},
     "output_type": "display_data"
    },
    {
     "data": {
      "text/plain": [
       "<Figure size 640x480 with 0 Axes>"
      ]
     },
     "metadata": {},
     "output_type": "display_data"
    },
    {
     "data": {
      "text/plain": [
       "<Figure size 640x480 with 0 Axes>"
      ]
     },
     "metadata": {},
     "output_type": "display_data"
    },
    {
     "data": {
      "text/plain": [
       "<Figure size 640x480 with 0 Axes>"
      ]
     },
     "metadata": {},
     "output_type": "display_data"
    },
    {
     "data": {
      "text/plain": [
       "<Figure size 640x480 with 0 Axes>"
      ]
     },
     "metadata": {},
     "output_type": "display_data"
    },
    {
     "data": {
      "text/plain": [
       "<Figure size 640x480 with 0 Axes>"
      ]
     },
     "metadata": {},
     "output_type": "display_data"
    },
    {
     "data": {
      "text/plain": [
       "<Figure size 640x480 with 0 Axes>"
      ]
     },
     "metadata": {},
     "output_type": "display_data"
    },
    {
     "data": {
      "text/plain": [
       "<Figure size 640x480 with 0 Axes>"
      ]
     },
     "metadata": {},
     "output_type": "display_data"
    },
    {
     "data": {
      "text/plain": [
       "<Figure size 640x480 with 0 Axes>"
      ]
     },
     "metadata": {},
     "output_type": "display_data"
    },
    {
     "data": {
      "text/plain": [
       "<Figure size 640x480 with 0 Axes>"
      ]
     },
     "metadata": {},
     "output_type": "display_data"
    },
    {
     "data": {
      "text/plain": [
       "<Figure size 640x480 with 0 Axes>"
      ]
     },
     "metadata": {},
     "output_type": "display_data"
    },
    {
     "data": {
      "text/plain": [
       "<Figure size 640x480 with 0 Axes>"
      ]
     },
     "metadata": {},
     "output_type": "display_data"
    },
    {
     "data": {
      "text/plain": [
       "<Figure size 640x480 with 0 Axes>"
      ]
     },
     "metadata": {},
     "output_type": "display_data"
    },
    {
     "data": {
      "text/plain": [
       "<Figure size 640x480 with 0 Axes>"
      ]
     },
     "metadata": {},
     "output_type": "display_data"
    },
    {
     "data": {
      "text/plain": [
       "<Figure size 640x480 with 0 Axes>"
      ]
     },
     "metadata": {},
     "output_type": "display_data"
    },
    {
     "data": {
      "text/plain": [
       "<Figure size 640x480 with 0 Axes>"
      ]
     },
     "metadata": {},
     "output_type": "display_data"
    },
    {
     "data": {
      "text/plain": [
       "<Figure size 640x480 with 0 Axes>"
      ]
     },
     "metadata": {},
     "output_type": "display_data"
    },
    {
     "data": {
      "text/plain": [
       "<Figure size 640x480 with 0 Axes>"
      ]
     },
     "metadata": {},
     "output_type": "display_data"
    },
    {
     "data": {
      "text/plain": [
       "<Figure size 640x480 with 0 Axes>"
      ]
     },
     "metadata": {},
     "output_type": "display_data"
    },
    {
     "data": {
      "text/plain": [
       "<Figure size 640x480 with 0 Axes>"
      ]
     },
     "metadata": {},
     "output_type": "display_data"
    },
    {
     "data": {
      "text/plain": [
       "<Figure size 640x480 with 0 Axes>"
      ]
     },
     "metadata": {},
     "output_type": "display_data"
    },
    {
     "data": {
      "text/plain": [
       "<Figure size 640x480 with 0 Axes>"
      ]
     },
     "metadata": {},
     "output_type": "display_data"
    },
    {
     "data": {
      "text/plain": [
       "<Figure size 640x480 with 0 Axes>"
      ]
     },
     "metadata": {},
     "output_type": "display_data"
    },
    {
     "data": {
      "text/plain": [
       "<Figure size 640x480 with 0 Axes>"
      ]
     },
     "metadata": {},
     "output_type": "display_data"
    },
    {
     "data": {
      "text/plain": [
       "<Figure size 640x480 with 0 Axes>"
      ]
     },
     "metadata": {},
     "output_type": "display_data"
    },
    {
     "data": {
      "text/plain": [
       "<Figure size 640x480 with 0 Axes>"
      ]
     },
     "metadata": {},
     "output_type": "display_data"
    },
    {
     "data": {
      "text/plain": [
       "<Figure size 640x480 with 0 Axes>"
      ]
     },
     "metadata": {},
     "output_type": "display_data"
    },
    {
     "data": {
      "text/plain": [
       "<Figure size 640x480 with 0 Axes>"
      ]
     },
     "metadata": {},
     "output_type": "display_data"
    },
    {
     "data": {
      "text/plain": [
       "<Figure size 640x480 with 0 Axes>"
      ]
     },
     "metadata": {},
     "output_type": "display_data"
    },
    {
     "data": {
      "text/plain": [
       "<Figure size 640x480 with 0 Axes>"
      ]
     },
     "metadata": {},
     "output_type": "display_data"
    },
    {
     "data": {
      "text/plain": [
       "<Figure size 640x480 with 0 Axes>"
      ]
     },
     "metadata": {},
     "output_type": "display_data"
    },
    {
     "data": {
      "text/plain": [
       "<Figure size 640x480 with 0 Axes>"
      ]
     },
     "metadata": {},
     "output_type": "display_data"
    },
    {
     "data": {
      "text/plain": [
       "<Figure size 640x480 with 0 Axes>"
      ]
     },
     "metadata": {},
     "output_type": "display_data"
    },
    {
     "data": {
      "text/plain": [
       "<Figure size 640x480 with 0 Axes>"
      ]
     },
     "metadata": {},
     "output_type": "display_data"
    },
    {
     "data": {
      "text/plain": [
       "<Figure size 640x480 with 0 Axes>"
      ]
     },
     "metadata": {},
     "output_type": "display_data"
    },
    {
     "data": {
      "text/plain": [
       "<Figure size 640x480 with 0 Axes>"
      ]
     },
     "metadata": {},
     "output_type": "display_data"
    },
    {
     "data": {
      "text/plain": [
       "<Figure size 640x480 with 0 Axes>"
      ]
     },
     "metadata": {},
     "output_type": "display_data"
    },
    {
     "data": {
      "text/plain": [
       "<Figure size 640x480 with 0 Axes>"
      ]
     },
     "metadata": {},
     "output_type": "display_data"
    },
    {
     "data": {
      "text/plain": [
       "<Figure size 640x480 with 0 Axes>"
      ]
     },
     "metadata": {},
     "output_type": "display_data"
    },
    {
     "data": {
      "text/plain": [
       "<Figure size 640x480 with 0 Axes>"
      ]
     },
     "metadata": {},
     "output_type": "display_data"
    },
    {
     "data": {
      "text/plain": [
       "<Figure size 640x480 with 0 Axes>"
      ]
     },
     "metadata": {},
     "output_type": "display_data"
    },
    {
     "data": {
      "text/plain": [
       "<Figure size 640x480 with 0 Axes>"
      ]
     },
     "metadata": {},
     "output_type": "display_data"
    },
    {
     "data": {
      "text/plain": [
       "<Figure size 640x480 with 0 Axes>"
      ]
     },
     "metadata": {},
     "output_type": "display_data"
    },
    {
     "data": {
      "text/plain": [
       "<Figure size 640x480 with 0 Axes>"
      ]
     },
     "metadata": {},
     "output_type": "display_data"
    },
    {
     "data": {
      "text/plain": [
       "<Figure size 640x480 with 0 Axes>"
      ]
     },
     "metadata": {},
     "output_type": "display_data"
    },
    {
     "data": {
      "text/plain": [
       "<Figure size 640x480 with 0 Axes>"
      ]
     },
     "metadata": {},
     "output_type": "display_data"
    },
    {
     "data": {
      "text/plain": [
       "<Figure size 640x480 with 0 Axes>"
      ]
     },
     "metadata": {},
     "output_type": "display_data"
    },
    {
     "data": {
      "text/plain": [
       "<Figure size 640x480 with 0 Axes>"
      ]
     },
     "metadata": {},
     "output_type": "display_data"
    },
    {
     "data": {
      "text/plain": [
       "<Figure size 640x480 with 0 Axes>"
      ]
     },
     "metadata": {},
     "output_type": "display_data"
    },
    {
     "data": {
      "text/plain": [
       "<Figure size 640x480 with 0 Axes>"
      ]
     },
     "metadata": {},
     "output_type": "display_data"
    },
    {
     "data": {
      "text/plain": [
       "<Figure size 640x480 with 0 Axes>"
      ]
     },
     "metadata": {},
     "output_type": "display_data"
    },
    {
     "data": {
      "text/plain": [
       "<Figure size 640x480 with 0 Axes>"
      ]
     },
     "metadata": {},
     "output_type": "display_data"
    },
    {
     "data": {
      "text/plain": [
       "<Figure size 640x480 with 0 Axes>"
      ]
     },
     "metadata": {},
     "output_type": "display_data"
    },
    {
     "data": {
      "text/plain": [
       "<Figure size 640x480 with 0 Axes>"
      ]
     },
     "metadata": {},
     "output_type": "display_data"
    },
    {
     "data": {
      "text/plain": [
       "<Figure size 640x480 with 0 Axes>"
      ]
     },
     "metadata": {},
     "output_type": "display_data"
    },
    {
     "data": {
      "text/plain": [
       "<Figure size 640x480 with 0 Axes>"
      ]
     },
     "metadata": {},
     "output_type": "display_data"
    },
    {
     "data": {
      "text/plain": [
       "<Figure size 640x480 with 0 Axes>"
      ]
     },
     "metadata": {},
     "output_type": "display_data"
    },
    {
     "data": {
      "text/plain": [
       "<Figure size 640x480 with 0 Axes>"
      ]
     },
     "metadata": {},
     "output_type": "display_data"
    },
    {
     "data": {
      "text/plain": [
       "<Figure size 640x480 with 0 Axes>"
      ]
     },
     "metadata": {},
     "output_type": "display_data"
    },
    {
     "data": {
      "text/plain": [
       "<Figure size 640x480 with 0 Axes>"
      ]
     },
     "metadata": {},
     "output_type": "display_data"
    },
    {
     "data": {
      "text/plain": [
       "<Figure size 640x480 with 0 Axes>"
      ]
     },
     "metadata": {},
     "output_type": "display_data"
    },
    {
     "data": {
      "text/plain": [
       "<Figure size 640x480 with 0 Axes>"
      ]
     },
     "metadata": {},
     "output_type": "display_data"
    },
    {
     "data": {
      "text/plain": [
       "<Figure size 640x480 with 0 Axes>"
      ]
     },
     "metadata": {},
     "output_type": "display_data"
    },
    {
     "data": {
      "text/plain": [
       "<Figure size 640x480 with 0 Axes>"
      ]
     },
     "metadata": {},
     "output_type": "display_data"
    },
    {
     "data": {
      "text/plain": [
       "<Figure size 640x480 with 0 Axes>"
      ]
     },
     "metadata": {},
     "output_type": "display_data"
    },
    {
     "data": {
      "text/plain": [
       "<Figure size 640x480 with 0 Axes>"
      ]
     },
     "metadata": {},
     "output_type": "display_data"
    },
    {
     "data": {
      "text/plain": [
       "<Figure size 640x480 with 0 Axes>"
      ]
     },
     "metadata": {},
     "output_type": "display_data"
    },
    {
     "data": {
      "text/plain": [
       "<Figure size 640x480 with 0 Axes>"
      ]
     },
     "metadata": {},
     "output_type": "display_data"
    },
    {
     "data": {
      "text/plain": [
       "<Figure size 640x480 with 0 Axes>"
      ]
     },
     "metadata": {},
     "output_type": "display_data"
    },
    {
     "data": {
      "text/plain": [
       "<Figure size 640x480 with 0 Axes>"
      ]
     },
     "metadata": {},
     "output_type": "display_data"
    },
    {
     "data": {
      "text/plain": [
       "<Figure size 640x480 with 0 Axes>"
      ]
     },
     "metadata": {},
     "output_type": "display_data"
    },
    {
     "data": {
      "text/plain": [
       "<Figure size 640x480 with 0 Axes>"
      ]
     },
     "metadata": {},
     "output_type": "display_data"
    },
    {
     "data": {
      "text/plain": [
       "<Figure size 640x480 with 0 Axes>"
      ]
     },
     "metadata": {},
     "output_type": "display_data"
    },
    {
     "data": {
      "text/plain": [
       "<Figure size 640x480 with 0 Axes>"
      ]
     },
     "metadata": {},
     "output_type": "display_data"
    },
    {
     "data": {
      "text/plain": [
       "<Figure size 640x480 with 0 Axes>"
      ]
     },
     "metadata": {},
     "output_type": "display_data"
    },
    {
     "data": {
      "text/plain": [
       "<Figure size 640x480 with 0 Axes>"
      ]
     },
     "metadata": {},
     "output_type": "display_data"
    },
    {
     "data": {
      "text/plain": [
       "<Figure size 640x480 with 0 Axes>"
      ]
     },
     "metadata": {},
     "output_type": "display_data"
    },
    {
     "data": {
      "text/plain": [
       "<Figure size 640x480 with 0 Axes>"
      ]
     },
     "metadata": {},
     "output_type": "display_data"
    },
    {
     "data": {
      "text/plain": [
       "<Figure size 640x480 with 0 Axes>"
      ]
     },
     "metadata": {},
     "output_type": "display_data"
    },
    {
     "data": {
      "text/plain": [
       "<Figure size 640x480 with 0 Axes>"
      ]
     },
     "metadata": {},
     "output_type": "display_data"
    },
    {
     "data": {
      "text/plain": [
       "<Figure size 640x480 with 0 Axes>"
      ]
     },
     "metadata": {},
     "output_type": "display_data"
    },
    {
     "data": {
      "text/plain": [
       "<Figure size 640x480 with 0 Axes>"
      ]
     },
     "metadata": {},
     "output_type": "display_data"
    },
    {
     "data": {
      "text/plain": [
       "<Figure size 640x480 with 0 Axes>"
      ]
     },
     "metadata": {},
     "output_type": "display_data"
    },
    {
     "data": {
      "text/plain": [
       "<Figure size 640x480 with 0 Axes>"
      ]
     },
     "metadata": {},
     "output_type": "display_data"
    },
    {
     "data": {
      "text/plain": [
       "<Figure size 640x480 with 0 Axes>"
      ]
     },
     "metadata": {},
     "output_type": "display_data"
    },
    {
     "data": {
      "text/plain": [
       "<Figure size 640x480 with 0 Axes>"
      ]
     },
     "metadata": {},
     "output_type": "display_data"
    },
    {
     "data": {
      "text/plain": [
       "<Figure size 640x480 with 0 Axes>"
      ]
     },
     "metadata": {},
     "output_type": "display_data"
    },
    {
     "data": {
      "text/plain": [
       "<Figure size 640x480 with 0 Axes>"
      ]
     },
     "metadata": {},
     "output_type": "display_data"
    },
    {
     "data": {
      "text/plain": [
       "<Figure size 640x480 with 0 Axes>"
      ]
     },
     "metadata": {},
     "output_type": "display_data"
    },
    {
     "data": {
      "text/plain": [
       "<Figure size 640x480 with 0 Axes>"
      ]
     },
     "metadata": {},
     "output_type": "display_data"
    },
    {
     "data": {
      "text/plain": [
       "<Figure size 640x480 with 0 Axes>"
      ]
     },
     "metadata": {},
     "output_type": "display_data"
    },
    {
     "data": {
      "text/plain": [
       "<Figure size 640x480 with 0 Axes>"
      ]
     },
     "metadata": {},
     "output_type": "display_data"
    },
    {
     "data": {
      "text/plain": [
       "<Figure size 640x480 with 0 Axes>"
      ]
     },
     "metadata": {},
     "output_type": "display_data"
    },
    {
     "data": {
      "text/plain": [
       "<Figure size 640x480 with 0 Axes>"
      ]
     },
     "metadata": {},
     "output_type": "display_data"
    },
    {
     "data": {
      "text/plain": [
       "<Figure size 640x480 with 0 Axes>"
      ]
     },
     "metadata": {},
     "output_type": "display_data"
    },
    {
     "data": {
      "text/plain": [
       "<Figure size 640x480 with 0 Axes>"
      ]
     },
     "metadata": {},
     "output_type": "display_data"
    },
    {
     "data": {
      "text/plain": [
       "<Figure size 640x480 with 0 Axes>"
      ]
     },
     "metadata": {},
     "output_type": "display_data"
    },
    {
     "data": {
      "text/plain": [
       "<Figure size 640x480 with 0 Axes>"
      ]
     },
     "metadata": {},
     "output_type": "display_data"
    },
    {
     "data": {
      "text/plain": [
       "<Figure size 640x480 with 0 Axes>"
      ]
     },
     "metadata": {},
     "output_type": "display_data"
    },
    {
     "data": {
      "text/plain": [
       "<Figure size 640x480 with 0 Axes>"
      ]
     },
     "metadata": {},
     "output_type": "display_data"
    },
    {
     "data": {
      "text/plain": [
       "<Figure size 640x480 with 0 Axes>"
      ]
     },
     "metadata": {},
     "output_type": "display_data"
    },
    {
     "data": {
      "text/plain": [
       "<Figure size 640x480 with 0 Axes>"
      ]
     },
     "metadata": {},
     "output_type": "display_data"
    },
    {
     "data": {
      "text/plain": [
       "<Figure size 640x480 with 0 Axes>"
      ]
     },
     "metadata": {},
     "output_type": "display_data"
    },
    {
     "data": {
      "text/plain": [
       "<Figure size 640x480 with 0 Axes>"
      ]
     },
     "metadata": {},
     "output_type": "display_data"
    },
    {
     "data": {
      "text/plain": [
       "<Figure size 640x480 with 0 Axes>"
      ]
     },
     "metadata": {},
     "output_type": "display_data"
    },
    {
     "data": {
      "text/plain": [
       "<Figure size 640x480 with 0 Axes>"
      ]
     },
     "metadata": {},
     "output_type": "display_data"
    },
    {
     "data": {
      "text/plain": [
       "<Figure size 640x480 with 0 Axes>"
      ]
     },
     "metadata": {},
     "output_type": "display_data"
    },
    {
     "data": {
      "text/plain": [
       "<Figure size 640x480 with 0 Axes>"
      ]
     },
     "metadata": {},
     "output_type": "display_data"
    },
    {
     "data": {
      "text/plain": [
       "<Figure size 640x480 with 0 Axes>"
      ]
     },
     "metadata": {},
     "output_type": "display_data"
    },
    {
     "data": {
      "text/plain": [
       "<Figure size 640x480 with 0 Axes>"
      ]
     },
     "metadata": {},
     "output_type": "display_data"
    },
    {
     "data": {
      "text/plain": [
       "<Figure size 640x480 with 0 Axes>"
      ]
     },
     "metadata": {},
     "output_type": "display_data"
    },
    {
     "data": {
      "text/plain": [
       "<Figure size 640x480 with 0 Axes>"
      ]
     },
     "metadata": {},
     "output_type": "display_data"
    },
    {
     "data": {
      "text/plain": [
       "<Figure size 640x480 with 0 Axes>"
      ]
     },
     "metadata": {},
     "output_type": "display_data"
    },
    {
     "data": {
      "text/plain": [
       "<Figure size 640x480 with 0 Axes>"
      ]
     },
     "metadata": {},
     "output_type": "display_data"
    },
    {
     "data": {
      "text/plain": [
       "<Figure size 640x480 with 0 Axes>"
      ]
     },
     "metadata": {},
     "output_type": "display_data"
    },
    {
     "data": {
      "text/plain": [
       "<Figure size 640x480 with 0 Axes>"
      ]
     },
     "metadata": {},
     "output_type": "display_data"
    },
    {
     "data": {
      "text/plain": [
       "<Figure size 640x480 with 0 Axes>"
      ]
     },
     "metadata": {},
     "output_type": "display_data"
    },
    {
     "data": {
      "text/plain": [
       "<Figure size 640x480 with 0 Axes>"
      ]
     },
     "metadata": {},
     "output_type": "display_data"
    },
    {
     "data": {
      "text/plain": [
       "<Figure size 640x480 with 0 Axes>"
      ]
     },
     "metadata": {},
     "output_type": "display_data"
    },
    {
     "data": {
      "text/plain": [
       "<Figure size 640x480 with 0 Axes>"
      ]
     },
     "metadata": {},
     "output_type": "display_data"
    },
    {
     "data": {
      "text/plain": [
       "<Figure size 640x480 with 0 Axes>"
      ]
     },
     "metadata": {},
     "output_type": "display_data"
    },
    {
     "data": {
      "text/plain": [
       "<Figure size 640x480 with 0 Axes>"
      ]
     },
     "metadata": {},
     "output_type": "display_data"
    },
    {
     "data": {
      "text/plain": [
       "<Figure size 640x480 with 0 Axes>"
      ]
     },
     "metadata": {},
     "output_type": "display_data"
    },
    {
     "data": {
      "text/plain": [
       "<Figure size 640x480 with 0 Axes>"
      ]
     },
     "metadata": {},
     "output_type": "display_data"
    },
    {
     "data": {
      "text/plain": [
       "<Figure size 640x480 with 0 Axes>"
      ]
     },
     "metadata": {},
     "output_type": "display_data"
    }
   ],
   "source": [
    "for j in days:\n",
    "    c_scheme=mp.pcolor(x,y,np.squeeze(tave_data[j,:,:]), cmap ='jet')\n",
    "    mp.drawcoastlines()\n",
    "    mp.drawstates()\n",
    "    mp.drawcounties()\n",
    "    cbar = mp.colorbar(c_scheme,location = 'right',pad = '10%')\n",
    "    day = j+1\n",
    "    plt.title('Average Temperature on day'+ str(day) + 'of year 1962')\n",
    "    plt.clim(-40,40)\n",
    "    plt.savefig(str(day)+'.jpg')\n",
    "    plt.clf()\n",
    "    plt.show()\n",
    "    "
   ]
  },
  {
   "cell_type": "code",
   "execution_count": null,
   "id": "4d3bec16",
   "metadata": {},
   "outputs": [],
   "source": []
  }
 ],
 "metadata": {
  "kernelspec": {
   "display_name": "Python 3 (ipykernel)",
   "language": "python",
   "name": "python3"
  },
  "language_info": {
   "codemirror_mode": {
    "name": "ipython",
    "version": 3
   },
   "file_extension": ".py",
   "mimetype": "text/x-python",
   "name": "python",
   "nbconvert_exporter": "python",
   "pygments_lexer": "ipython3",
   "version": "3.11.5"
  }
 },
 "nbformat": 4,
 "nbformat_minor": 5
}
